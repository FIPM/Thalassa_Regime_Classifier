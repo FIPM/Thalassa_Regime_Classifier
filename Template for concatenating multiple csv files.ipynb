{
 "cells": [
  {
   "cell_type": "code",
   "execution_count": 1,
   "id": "26fc31f9",
   "metadata": {},
   "outputs": [],
   "source": [
    "import numpy as np\n",
    "import pandas as pd\n",
    "import glob\n",
    "import os"
   ]
  },
  {
   "cell_type": "code",
   "execution_count": 2,
   "id": "c3ecaca1",
   "metadata": {},
   "outputs": [],
   "source": [
    "import os, glob\n",
    "import pandas as pd\n",
    "\n",
    "path = \"/Users/abefarkas/BTCUSDT_S_DEPTH_202205260255/\"\n",
    "\n",
    "all_files = glob.glob(os.path.join(path, \"BTCUSDT_S_DEPTH*.csv\"))\n",
    "df_from_each_file = (pd.read_csv(f, sep=',') for f in all_files)\n",
    "df_merged   = pd.concat(df_from_each_file, ignore_index=True)\n",
    "df_merged.to_csv( \"merged.csv\")"
   ]
  },
  {
   "cell_type": "code",
   "execution_count": 4,
   "id": "df10b19f",
   "metadata": {},
   "outputs": [
    {
     "data": {
      "text/html": [
       "<div>\n",
       "<style scoped>\n",
       "    .dataframe tbody tr th:only-of-type {\n",
       "        vertical-align: middle;\n",
       "    }\n",
       "\n",
       "    .dataframe tbody tr th {\n",
       "        vertical-align: top;\n",
       "    }\n",
       "\n",
       "    .dataframe thead th {\n",
       "        text-align: right;\n",
       "    }\n",
       "</style>\n",
       "<table border=\"1\" class=\"dataframe\">\n",
       "  <thead>\n",
       "    <tr style=\"text-align: right;\">\n",
       "      <th></th>\n",
       "      <th>symbol</th>\n",
       "      <th>ts</th>\n",
       "      <th>last_update_id</th>\n",
       "      <th>bp1</th>\n",
       "      <th>bs1</th>\n",
       "      <th>bp2</th>\n",
       "      <th>bs2</th>\n",
       "      <th>bp3</th>\n",
       "      <th>bs3</th>\n",
       "      <th>bp4</th>\n",
       "      <th>...</th>\n",
       "      <th>ap16</th>\n",
       "      <th>as16</th>\n",
       "      <th>ap17</th>\n",
       "      <th>as17</th>\n",
       "      <th>ap18</th>\n",
       "      <th>as18</th>\n",
       "      <th>ap19</th>\n",
       "      <th>as19</th>\n",
       "      <th>ap20</th>\n",
       "      <th>as20</th>\n",
       "    </tr>\n",
       "  </thead>\n",
       "  <tbody>\n",
       "    <tr>\n",
       "      <th>0</th>\n",
       "      <td>BTCUSDT</td>\n",
       "      <td>1648252800559</td>\n",
       "      <td>1321240800387</td>\n",
       "      <td>44290.6</td>\n",
       "      <td>8.267</td>\n",
       "      <td>44290.5</td>\n",
       "      <td>0.004</td>\n",
       "      <td>44290.2</td>\n",
       "      <td>0.072</td>\n",
       "      <td>44290.1</td>\n",
       "      <td>...</td>\n",
       "      <td>44295.2</td>\n",
       "      <td>1.106</td>\n",
       "      <td>44295.7</td>\n",
       "      <td>0.025</td>\n",
       "      <td>44296.0</td>\n",
       "      <td>0.2</td>\n",
       "      <td>44296.3</td>\n",
       "      <td>0.001</td>\n",
       "      <td>44296.4</td>\n",
       "      <td>1.574</td>\n",
       "    </tr>\n",
       "    <tr>\n",
       "      <th>1</th>\n",
       "      <td>BTCUSDT</td>\n",
       "      <td>1648252800888</td>\n",
       "      <td>1321240949720</td>\n",
       "      <td>44290.6</td>\n",
       "      <td>8.267</td>\n",
       "      <td>44290.5</td>\n",
       "      <td>0.004</td>\n",
       "      <td>44290.2</td>\n",
       "      <td>0.072</td>\n",
       "      <td>44290.1</td>\n",
       "      <td>...</td>\n",
       "      <td>44295.2</td>\n",
       "      <td>1.106</td>\n",
       "      <td>44295.7</td>\n",
       "      <td>0.025</td>\n",
       "      <td>44296.0</td>\n",
       "      <td>0.2</td>\n",
       "      <td>44296.3</td>\n",
       "      <td>0.001</td>\n",
       "      <td>44296.4</td>\n",
       "      <td>1.574</td>\n",
       "    </tr>\n",
       "  </tbody>\n",
       "</table>\n",
       "<p>2 rows × 83 columns</p>\n",
       "</div>"
      ],
      "text/plain": [
       "    symbol             ts  last_update_id      bp1    bs1      bp2    bs2  \\\n",
       "0  BTCUSDT  1648252800559   1321240800387  44290.6  8.267  44290.5  0.004   \n",
       "1  BTCUSDT  1648252800888   1321240949720  44290.6  8.267  44290.5  0.004   \n",
       "\n",
       "       bp3    bs3      bp4  ...     ap16   as16     ap17   as17     ap18  \\\n",
       "0  44290.2  0.072  44290.1  ...  44295.2  1.106  44295.7  0.025  44296.0   \n",
       "1  44290.2  0.072  44290.1  ...  44295.2  1.106  44295.7  0.025  44296.0   \n",
       "\n",
       "   as18     ap19   as19     ap20   as20  \n",
       "0   0.2  44296.3  0.001  44296.4  1.574  \n",
       "1   0.2  44296.3  0.001  44296.4  1.574  \n",
       "\n",
       "[2 rows x 83 columns]"
      ]
     },
     "execution_count": 4,
     "metadata": {},
     "output_type": "execute_result"
    }
   ],
   "source": [
    "df_merged.head(2)"
   ]
  },
  {
   "cell_type": "code",
   "execution_count": 5,
   "id": "1f8ae15e",
   "metadata": {},
   "outputs": [],
   "source": [
    "df_merged = df_merged.sort_values('ts', ignore_index=True)"
   ]
  },
  {
   "cell_type": "code",
   "execution_count": 6,
   "id": "9736933b",
   "metadata": {},
   "outputs": [
    {
     "data": {
      "text/plain": [
       "symbol                  BTCUSDT\n",
       "ts                1645833600210\n",
       "last_update_id    1240612616670\n",
       "bp1                     39205.3\n",
       "bs1                        3.75\n",
       "                      ...      \n",
       "as18                      0.169\n",
       "ap19                    39212.0\n",
       "as19                      0.005\n",
       "ap20                    39212.1\n",
       "as20                      0.001\n",
       "Name: 0, Length: 83, dtype: object"
      ]
     },
     "execution_count": 6,
     "metadata": {},
     "output_type": "execute_result"
    }
   ],
   "source": [
    "df_merged.iloc[0]"
   ]
  },
  {
   "cell_type": "code",
   "execution_count": 7,
   "id": "0b878f96",
   "metadata": {},
   "outputs": [
    {
     "data": {
      "text/plain": [
       "symbol                  BTCUSDT\n",
       "ts                1653535198745\n",
       "last_update_id    1542034572340\n",
       "bp1                     29677.3\n",
       "bs1                       0.071\n",
       "                      ...      \n",
       "as18                      0.083\n",
       "ap19                    29680.6\n",
       "as19                      0.168\n",
       "ap20                    29680.9\n",
       "as20                      0.041\n",
       "Name: 13264948, Length: 83, dtype: object"
      ]
     },
     "execution_count": 7,
     "metadata": {},
     "output_type": "execute_result"
    }
   ],
   "source": [
    "df_merged.iloc[-1]"
   ]
  },
  {
   "cell_type": "code",
   "execution_count": 8,
   "id": "584f598d",
   "metadata": {},
   "outputs": [],
   "source": [
    "first_ts=1645833600210"
   ]
  },
  {
   "cell_type": "code",
   "execution_count": 9,
   "id": "7b86a365",
   "metadata": {},
   "outputs": [],
   "source": [
    "second_ts=1653535198745"
   ]
  },
  {
   "cell_type": "code",
   "execution_count": 12,
   "id": "b1c5c7c6",
   "metadata": {},
   "outputs": [
    {
     "data": {
      "text/plain": [
       "(13264949, 83)"
      ]
     },
     "execution_count": 12,
     "metadata": {},
     "output_type": "execute_result"
    }
   ],
   "source": [
    "df_merged.shape"
   ]
  },
  {
   "cell_type": "code",
   "execution_count": 11,
   "id": "5accde79",
   "metadata": {},
   "outputs": [],
   "source": [
    "df_merged.to_csv('BTCUSDT_S_DEPTH_2022_02_26_05_26.csv', index = False, encoding='utf-8')"
   ]
  },
  {
   "cell_type": "code",
   "execution_count": null,
   "id": "8c2bef72",
   "metadata": {},
   "outputs": [],
   "source": []
  }
 ],
 "metadata": {
  "kernelspec": {
   "display_name": "Python 3 (ipykernel)",
   "language": "python",
   "name": "python3"
  },
  "language_info": {
   "codemirror_mode": {
    "name": "ipython",
    "version": 3
   },
   "file_extension": ".py",
   "mimetype": "text/x-python",
   "name": "python",
   "nbconvert_exporter": "python",
   "pygments_lexer": "ipython3",
   "version": "3.8.13"
  },
  "toc": {
   "base_numbering": 1,
   "nav_menu": {},
   "number_sections": true,
   "sideBar": true,
   "skip_h1_title": false,
   "title_cell": "Table of Contents",
   "title_sidebar": "Contents",
   "toc_cell": false,
   "toc_position": {},
   "toc_section_display": true,
   "toc_window_display": false
  }
 },
 "nbformat": 4,
 "nbformat_minor": 5
}
