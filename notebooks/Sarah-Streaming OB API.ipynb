{
 "cells": [
  {
   "cell_type": "markdown",
   "id": "6c9a906e",
   "metadata": {},
   "source": [
    "## Websocket"
   ]
  },
  {
   "cell_type": "code",
   "execution_count": 5,
   "id": "9eee817c",
   "metadata": {},
   "outputs": [],
   "source": [
    "import json\n",
    "import websocket\n",
    "import datetime\n",
    "import numpy as np"
   ]
  },
  {
   "cell_type": "code",
   "execution_count": 25,
   "id": "30ba1d06",
   "metadata": {},
   "outputs": [],
   "source": [
    "def ws_trades(): \n",
    "    socket = f'wss://stream.binance.com:9443/ws/btcusdt@depth20'\n",
    "\n",
    "    def on_message(wsapp,message):  \n",
    "        json_message = json.loads(message)\n",
    "        handle_trades(json_message)\n",
    "\n",
    "    def on_error(wsapp,error):\n",
    "        print(error)\n",
    "\n",
    "    wsapp = websocket.WebSocketApp(socket, on_message=on_message, on_error=on_error)\n",
    "    wsapp.run_forever()\n",
    "    \n",
    "def handle_trades(json_message):\n",
    "    #date_time = datetime.datetime.fromtimestamp(json_message['E']/1000).strftime('%Y-%m-%d %H:%M:%S')\n",
    "    print(my_json(json_message))"
   ]
  },
  {
   "cell_type": "code",
   "execution_count": 26,
   "id": "e50b7202",
   "metadata": {},
   "outputs": [
    {
     "name": "stdout",
     "output_type": "stream",
     "text": [
      "{'ts': 19499698434, 'bp1': '29639.80000000', 'bp2': '29639.79000000', 'bp3': '29639.70000000', 'bp4': '29639.56000000', 'bp5': '29638.23000000', 'bp6': '29638.02000000', 'bp7': '29637.94000000', 'bp8': '29637.82000000', 'bp9': '29637.50000000', 'bp10': '29637.48000000', 'bp11': '29636.96000000', 'bp12': '29636.95000000', 'bp13': '29636.19000000', 'bp14': '29636.01000000', 'bp15': '29635.90000000', 'bp16': '29635.79000000', 'bp17': '29635.64000000', 'bp18': '29635.34000000', 'bp19': '29635.01000000', 'bp20': '29634.71000000', 'bs1': '1.25438000', 'bs2': '0.08427000', 'bs3': '0.00684000', 'bs4': '0.01000000', 'bs5': '0.06899000', 'bs6': '0.00300000', 'bs7': '0.03006000', 'bs8': '0.00100000', 'bs9': '0.00260000', 'bs10': '0.01370000', 'bs11': '0.39776000', 'bs12': '1.53099000', 'bs13': '0.00038000', 'bs14': '1.72799000', 'bs15': '0.07842000', 'bs16': '0.00300000', 'bs17': '0.01900000', 'bs18': '0.00100000', 'bs19': '0.00169000', 'bs20': '1.05241000', 'ap1': '29639.81000000', 'ap2': '29639.82000000', 'ap3': '29639.91000000', 'ap4': '29639.97000000', 'ap5': '29640.30000000', 'ap6': '29640.73000000', 'ap7': '29641.59000000', 'ap8': '29641.61000000', 'ap9': '29641.79000000', 'ap10': '29641.89000000', 'ap11': '29642.13000000', 'ap12': '29642.21000000', 'ap13': '29642.22000000', 'ap14': '29642.23000000', 'ap15': '29642.32000000', 'ap16': '29642.73000000', 'ap17': '29642.75000000', 'ap18': '29643.16000000', 'ap19': '29643.39000000', 'ap20': '29643.49000000', 'as1': '4.66182000', 'as2': '0.00092000', 'as3': '0.00075000', 'as4': '0.01000000', 'as5': '0.02700000', 'as6': '0.29060000', 'as7': '0.00300000', 'as8': '0.04000000', 'as9': '0.00100000', 'as10': '0.00038000', 'as11': '0.02289000', 'as12': '0.08000000', 'as13': '0.29194000', 'as14': '0.16890000', 'as15': '0.29060000', 'as16': '0.00100000', 'as17': '0.87900000', 'as18': '0.06755000', 'as19': '0.11961000', 'as20': '2.21992000'}\n",
      "\n"
     ]
    }
   ],
   "source": [
    "ws_trades()"
   ]
  },
  {
   "cell_type": "code",
   "execution_count": 11,
   "id": "464311ef",
   "metadata": {},
   "outputs": [],
   "source": [
    "json_message = {'lastUpdateId': 19499589659, 'bids': [['29609.67000000', '1.97959000'], ['29609.66000000', '0.82926000'], ['29609.65000000', '4.45182000'], ['29609.58000000', '4.76603000'], ['29609.57000000', '1.12348000'], ['29609.30000000', '0.08293000'], ['29608.82000000', '0.61603000'], ['29608.81000000', '0.07354000'], ['29608.54000000', '0.40600000'], ['29608.43000000', '0.04268000'], ['29608.42000000', '0.11521000'], ['29607.79000000', '0.00138000'], ['29607.78000000', '0.00588000'], ['29607.71000000', '0.01870000'], ['29607.54000000', '0.01000000'], ['29607.53000000', '0.19625000'], ['29606.70000000', '0.05966000'], ['29606.04000000', '0.00100000'], ['29605.88000000', '0.00300000'], ['29605.70000000', '0.00038000']], 'asks': [['29609.68000000', '0.00035000'], ['29609.70000000', '0.00180000'], ['29609.75000000', '0.01000000'], ['29609.85000000', '0.05633000'], ['29610.00000000', '0.03378000'], ['29610.60000000', '0.01971000'], ['29610.61000000', '0.16957000'], ['29610.62000000', '0.56507000'], ['29610.81000000', '0.00100000'], ['29610.97000000', '0.00300000'], ['29611.39000000', '0.01002000'], ['29611.60000000', '0.05279000'], ['29612.08000000', '0.00297000'], ['29612.19000000', '0.52040000'], ['29612.20000000', '1.29300000'], ['29612.97000000', '1.07188000'], ['29613.38000000', '0.00038000'], ['29613.70000000', '0.00390000'], ['29613.79000000', '0.00100000'], ['29614.04000000', '0.00100000']]}"
   ]
  },
  {
   "cell_type": "code",
   "execution_count": 16,
   "id": "5e10f1c0",
   "metadata": {},
   "outputs": [],
   "source": [
    "def my_json(json_message):\n",
    "    size = len(np.array(json_message['bids'])[:,0])\n",
    "    return {\n",
    "        **{'last_update_id':json_message['lastUpdateId']},\n",
    "        **{'bp'+str(key):value for key,value in zip(np.arange(0,size)+1,np.array(json_message['bids'])[:,0]) },\n",
    "        **{'bs'+str(key):value for key,value in zip(np.arange(0,size)+1,np.array(json_message['bids'])[:,1]) },\n",
    "        **{'ap'+str(key):value for key,value in zip(np.arange(0,size)+1,np.array(json_message['asks'])[:,0]) },\n",
    "        **{'as'+str(key):value for key,value in zip(np.arange(0,size)+1,np.array(json_message['asks'])[:,1]) }}"
   ]
  },
  {
   "cell_type": "code",
   "execution_count": 17,
   "id": "78d22435",
   "metadata": {},
   "outputs": [
    {
     "data": {
      "text/plain": [
       "{'ts': 19499589659,\n",
       " 'bp1': '29609.67000000',\n",
       " 'bp2': '29609.66000000',\n",
       " 'bp3': '29609.65000000',\n",
       " 'bp4': '29609.58000000',\n",
       " 'bp5': '29609.57000000',\n",
       " 'bp6': '29609.30000000',\n",
       " 'bp7': '29608.82000000',\n",
       " 'bp8': '29608.81000000',\n",
       " 'bp9': '29608.54000000',\n",
       " 'bp10': '29608.43000000',\n",
       " 'bp11': '29608.42000000',\n",
       " 'bp12': '29607.79000000',\n",
       " 'bp13': '29607.78000000',\n",
       " 'bp14': '29607.71000000',\n",
       " 'bp15': '29607.54000000',\n",
       " 'bp16': '29607.53000000',\n",
       " 'bp17': '29606.70000000',\n",
       " 'bp18': '29606.04000000',\n",
       " 'bp19': '29605.88000000',\n",
       " 'bp20': '29605.70000000',\n",
       " 'bs1': '1.97959000',\n",
       " 'bs2': '0.82926000',\n",
       " 'bs3': '4.45182000',\n",
       " 'bs4': '4.76603000',\n",
       " 'bs5': '1.12348000',\n",
       " 'bs6': '0.08293000',\n",
       " 'bs7': '0.61603000',\n",
       " 'bs8': '0.07354000',\n",
       " 'bs9': '0.40600000',\n",
       " 'bs10': '0.04268000',\n",
       " 'bs11': '0.11521000',\n",
       " 'bs12': '0.00138000',\n",
       " 'bs13': '0.00588000',\n",
       " 'bs14': '0.01870000',\n",
       " 'bs15': '0.01000000',\n",
       " 'bs16': '0.19625000',\n",
       " 'bs17': '0.05966000',\n",
       " 'bs18': '0.00100000',\n",
       " 'bs19': '0.00300000',\n",
       " 'bs20': '0.00038000',\n",
       " 'ap1': '29609.68000000',\n",
       " 'ap2': '29609.70000000',\n",
       " 'ap3': '29609.75000000',\n",
       " 'ap4': '29609.85000000',\n",
       " 'ap5': '29610.00000000',\n",
       " 'ap6': '29610.60000000',\n",
       " 'ap7': '29610.61000000',\n",
       " 'ap8': '29610.62000000',\n",
       " 'ap9': '29610.81000000',\n",
       " 'ap10': '29610.97000000',\n",
       " 'ap11': '29611.39000000',\n",
       " 'ap12': '29611.60000000',\n",
       " 'ap13': '29612.08000000',\n",
       " 'ap14': '29612.19000000',\n",
       " 'ap15': '29612.20000000',\n",
       " 'ap16': '29612.97000000',\n",
       " 'ap17': '29613.38000000',\n",
       " 'ap18': '29613.70000000',\n",
       " 'ap19': '29613.79000000',\n",
       " 'ap20': '29614.04000000',\n",
       " 'as1': '0.00035000',\n",
       " 'as2': '0.00180000',\n",
       " 'as3': '0.01000000',\n",
       " 'as4': '0.05633000',\n",
       " 'as5': '0.03378000',\n",
       " 'as6': '0.01971000',\n",
       " 'as7': '0.16957000',\n",
       " 'as8': '0.56507000',\n",
       " 'as9': '0.00100000',\n",
       " 'as10': '0.00300000',\n",
       " 'as11': '0.01002000',\n",
       " 'as12': '0.05279000',\n",
       " 'as13': '0.00297000',\n",
       " 'as14': '0.52040000',\n",
       " 'as15': '1.29300000',\n",
       " 'as16': '1.07188000',\n",
       " 'as17': '0.00038000',\n",
       " 'as18': '0.00390000',\n",
       " 'as19': '0.00100000',\n",
       " 'as20': '0.00100000'}"
      ]
     },
     "execution_count": 17,
     "metadata": {},
     "output_type": "execute_result"
    }
   ],
   "source": [
    "my_json(json_message)"
   ]
  },
  {
   "cell_type": "markdown",
   "id": "17fd0a0b",
   "metadata": {},
   "source": [
    "## Spark Streaming"
   ]
  },
  {
   "cell_type": "code",
   "execution_count": null,
   "id": "580a111f",
   "metadata": {},
   "outputs": [],
   "source": [
    "# netcat -lk 9999"
   ]
  },
  {
   "cell_type": "code",
   "execution_count": null,
   "id": "4c044f10",
   "metadata": {},
   "outputs": [],
   "source": [
    "import pyspark\n",
    "from pyspark.streaming import StreamingContext\n",
    "\n",
    "#Uncomment the next line to run the code block on jupyter. Keep it commented if copy-pasting into the pyspark shell\n",
    "sc = pyspark.SparkContext()\n",
    "\n",
    "# This tells Spark Streaming to bacth-up the contents of a data stream and \"ingest\" them every 10 seconds.\n",
    "ssc = StreamingContext(sc,10)\n",
    "\n",
    "# Tell spark to listen on port 9999 of our localhost.\n",
    "lines = ssc.socketTextStream(\"wss://stream.binance.com/ws/btcusdt@depth20\", 9443)"
   ]
  },
  {
   "cell_type": "code",
   "execution_count": null,
   "id": "434ad109",
   "metadata": {},
   "outputs": [],
   "source": [
    "lines.pprint()"
   ]
  },
  {
   "cell_type": "code",
   "execution_count": null,
   "id": "35dbbd1a",
   "metadata": {},
   "outputs": [],
   "source": [
    "# words = lines.flatMap(lambda line : line.split(\" \"))\n",
    "\n",
    "# pairs = words.map(lambda word: (word, 1))\n",
    "# wordCount = pairs.reduceByKey(lambda a, b: a + b)\n",
    "\n",
    "# wordCount.pprint()"
   ]
  },
  {
   "cell_type": "code",
   "execution_count": null,
   "id": "a98d42f0",
   "metadata": {
    "scrolled": true
   },
   "outputs": [],
   "source": [
    "ssc.start()\n",
    "ssc.awaitTermination()"
   ]
  },
  {
   "cell_type": "code",
   "execution_count": null,
   "id": "ddf077bc",
   "metadata": {},
   "outputs": [],
   "source": [
    "ssc.stop()"
   ]
  },
  {
   "cell_type": "code",
   "execution_count": null,
   "id": "c2793370",
   "metadata": {},
   "outputs": [],
   "source": [
    "import pyspark\n",
    "from pyspark.sql import SQLContext\n",
    "\n",
    "sc = pyspark.SparkContext().getOrCreate()\n",
    "\n",
    "spark = SQLContext(sc)\n",
    "\n",
    "my_dataframe = spark \\\n",
    "    .readStream.json(json_output) \\\n",
    "    .format(\"socket\") \\\n",
    "    .option(\"host\", \"localhost\") \\\n",
    "    .option(\"port\", 9999) \\\n",
    "    .load()"
   ]
  },
  {
   "cell_type": "code",
   "execution_count": null,
   "id": "9b129e4b",
   "metadata": {},
   "outputs": [],
   "source": [
    "spark.stop()"
   ]
  },
  {
   "cell_type": "markdown",
   "id": "a3b9b941",
   "metadata": {},
   "source": [
    "## Live OB API"
   ]
  },
  {
   "cell_type": "code",
   "execution_count": null,
   "id": "8a042d51",
   "metadata": {},
   "outputs": [],
   "source": [
    "import requests"
   ]
  },
  {
   "cell_type": "code",
   "execution_count": null,
   "id": "cad30477",
   "metadata": {},
   "outputs": [],
   "source": [
    "symbol = 'BTCUSDT'\n",
    "\n",
    "url = 'https://fapi.binance.com/fapi/v1/depth?symbol=' + symbol + '&limit' + '10'\n",
    "\n",
    "data = requests.get(url).json()"
   ]
  },
  {
   "cell_type": "code",
   "execution_count": null,
   "id": "5e028c5d",
   "metadata": {},
   "outputs": [],
   "source": [
    "data # E = Event time ; T = Trade time"
   ]
  },
  {
   "cell_type": "code",
   "execution_count": null,
   "id": "d82ba6f8",
   "metadata": {},
   "outputs": [],
   "source": [
    "def my_json(json_message):\n",
    "    size = len(np.array(json_message['bids'])[:,0])\n",
    "    return {\n",
    "        **{'ts':json_message['E']},\n",
    "        **{'bp'+str(key):value for key,value in zip(np.arange(0,size)+1,np.array(json_message['bids'])[:,0]) },\n",
    "        **{'bs'+str(key):value for key,value in zip(np.arange(0,size)+1,np.array(json_message['bids'])[:,1]) },\n",
    "        **{'ap'+str(key):value for key,value in zip(np.arange(0,size)+1,np.array(json_message['asks'])[:,0]) },\n",
    "        **{'as'+str(key):value for key,value in zip(np.arange(0,size)+1,np.array(json_message['asks'])[:,1]) }}"
   ]
  }
 ],
 "metadata": {
  "kernelspec": {
   "display_name": "Python 3 (ipykernel)",
   "language": "python",
   "name": "python3"
  },
  "language_info": {
   "codemirror_mode": {
    "name": "ipython",
    "version": 3
   },
   "file_extension": ".py",
   "mimetype": "text/x-python",
   "name": "python",
   "nbconvert_exporter": "python",
   "pygments_lexer": "ipython3",
   "version": "3.8.12"
  },
  "toc": {
   "base_numbering": 1,
   "nav_menu": {},
   "number_sections": true,
   "sideBar": true,
   "skip_h1_title": false,
   "title_cell": "Table of Contents",
   "title_sidebar": "Contents",
   "toc_cell": false,
   "toc_position": {},
   "toc_section_display": true,
   "toc_window_display": false
  }
 },
 "nbformat": 4,
 "nbformat_minor": 5
}
