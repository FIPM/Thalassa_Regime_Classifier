{
 "cells": [
  {
   "cell_type": "code",
   "execution_count": null,
   "metadata": {},
   "outputs": [],
   "source": [
    "import pandas as pd\n",
    "import numpy as np\n",
    "from sklearn.linear_model import LinearRegression"
   ]
  },
  {
   "cell_type": "code",
   "execution_count": null,
   "metadata": {},
   "outputs": [],
   "source": [
    "data = pd.read_csv('/Users/fipm/code/abefarkas/Thalassa_Regime_Classifier/raw_data/BTCUSDT_S_DEPTH_20220519.csv')\n",
    "data.head(4)"
   ]
  },
  {
   "cell_type": "code",
   "execution_count": null,
   "metadata": {},
   "outputs": [],
   "source": [
    "from sklearn.base import TransformerMixin, BaseEstimator\n",
    "from sklearn.pipeline import Pipeline\n",
    "from sklearn.impute import SimpleImputer\n",
    "from sklearn.preprocessing import MinMaxScaler\n",
    "\n",
    "class DataPipeline(TransformerMixin, BaseEstimator):\n",
    "    def __init__(self):\n",
    "        self.pipeline = Pipeline([            \n",
    "            ('Imputer', SimpleImputer(strategy = 'mean')),\n",
    "            ('scaler', MinMaxScaler()),\n",
    "            ])\n",
    "       \n",
    "    def financial_features(self, data):\n",
    "        self.data = data\n",
    "        \n",
    "        # self.data\n",
    "        self.data['self.data'] = (self.data['bp1']*self.data['bs1']\n",
    "                +self.data['bp2']*self.data['bs2']\n",
    "                +self.data['ap1']*self.data['as1']\n",
    "                +self.data['ap2']*self.data['as2'])/(self.data['bs1']+\n",
    "                                            self.data['bs2']+\n",
    "                                            self.data['as1']+\n",
    "                                            self.data['as2'])\n",
    "    \n",
    "        # log_price\n",
    "        self.data['log_price'] = np.log(self.data['WAP'])\n",
    "        \n",
    "        # log_returns\n",
    "        self.data['log_returns'] = self.data.log_price.diff()\n",
    "\n",
    "        # realized_volatility\n",
    "        self.data['realized_volatility'] = np.std(self.data.log_returns)\n",
    "        \n",
    "        # volatility_t+1\n",
    "        self.data['volatility_t+1'] = self.data['realized_volatility'].shift(-1)\n",
    "        \n",
    "        return self.data\n",
    "\n",
    "    \n",
    "    def pipeline(self, data):\n",
    "        return self.preproc.fit_transform(data)\n",
    "\n",
    "    \n",
    "    def fit(self, data, y=None):\n",
    "        self.data = data\n",
    "        \n",
    "        return self\n",
    "    \n",
    "    def transform(self, data):\n",
    "        return self.data\n",
    "        "
   ]
  },
  {
   "cell_type": "code",
   "execution_count": null,
   "metadata": {},
   "outputs": [],
   "source": [
    "class my_model(TransformerMixin, BaseEstimator):\n",
    "    def __init__(self):\n",
    "        self.model = LinearRegression()\n",
    "\n",
    "    def fit(self, data, y=None):\n",
    "        X = data[['log_price']]\n",
    "        y = data['realized_volatility']\n",
    "        self.model.fit(X, y)\n",
    "        return self\n",
    "    \n",
    "    def transform(self, data):\n",
    "        return self\n",
    "    \n",
    "    def predict(self, data):\n",
    "        X = data[['log_price']]\n",
    "        return self.model.predict(X)\n",
    "        \n",
    "        \n",
    "        \n",
    "        "
   ]
  },
  {
   "cell_type": "code",
   "execution_count": null,
   "metadata": {},
   "outputs": [],
   "source": [
    "preproc = Pipeline([\n",
    "            ('FinFeatures', FinancialFeatures()),\n",
    "            ('my_model', my_model())\n",
    "            ])\n",
    "preproc"
   ]
  },
  {
   "cell_type": "code",
   "execution_count": null,
   "metadata": {},
   "outputs": [],
   "source": [
    "preproc.fit_transform(data).predict(data)\n",
    "\n"
   ]
  },
  {
   "cell_type": "code",
   "execution_count": null,
   "metadata": {},
   "outputs": [],
   "source": [
    "from statsmodels.tsa.arima.model import ARIMA\n",
    "\n",
    "# 1. initialize the model\n",
    "arima = ARIMA(y_train, order=(2, 1,3), trend='t')\n",
    "# 2. fit the models\n",
    "arima = arima.fit()\n",
    "arima.summary()"
   ]
  },
  {
   "cell_type": "code",
   "execution_count": 2,
   "metadata": {},
   "outputs": [
    {
     "data": {
      "text/html": [
       "<div>\n",
       "<style scoped>\n",
       "    .dataframe tbody tr th:only-of-type {\n",
       "        vertical-align: middle;\n",
       "    }\n",
       "\n",
       "    .dataframe tbody tr th {\n",
       "        vertical-align: top;\n",
       "    }\n",
       "\n",
       "    .dataframe thead th {\n",
       "        text-align: right;\n",
       "    }\n",
       "</style>\n",
       "<table border=\"1\" class=\"dataframe\">\n",
       "  <thead>\n",
       "    <tr style=\"text-align: right;\">\n",
       "      <th></th>\n",
       "      <th>Unnamed: 0</th>\n",
       "      <th>primary_key</th>\n",
       "      <th>bp1</th>\n",
       "      <th>bs1</th>\n",
       "      <th>bp2</th>\n",
       "      <th>bs2</th>\n",
       "      <th>bp3</th>\n",
       "      <th>bs3</th>\n",
       "      <th>bp4</th>\n",
       "      <th>bs4</th>\n",
       "      <th>...</th>\n",
       "      <th>ap16</th>\n",
       "      <th>as16</th>\n",
       "      <th>ap17</th>\n",
       "      <th>as17</th>\n",
       "      <th>ap18</th>\n",
       "      <th>as18</th>\n",
       "      <th>ap19</th>\n",
       "      <th>as19</th>\n",
       "      <th>ap20</th>\n",
       "      <th>as20</th>\n",
       "    </tr>\n",
       "  </thead>\n",
       "  <tbody>\n",
       "    <tr>\n",
       "      <th>0</th>\n",
       "      <td>0</td>\n",
       "      <td>2022-05-19 00:00:15</td>\n",
       "      <td>28720.075362</td>\n",
       "      <td>3.772080</td>\n",
       "      <td>28719.533333</td>\n",
       "      <td>1.405377</td>\n",
       "      <td>28719.011594</td>\n",
       "      <td>0.626551</td>\n",
       "      <td>28718.371014</td>\n",
       "      <td>0.505087</td>\n",
       "      <td>...</td>\n",
       "      <td>28724.006522</td>\n",
       "      <td>0.418891</td>\n",
       "      <td>28724.167391</td>\n",
       "      <td>0.487558</td>\n",
       "      <td>28724.361594</td>\n",
       "      <td>0.706101</td>\n",
       "      <td>28724.511594</td>\n",
       "      <td>0.707326</td>\n",
       "      <td>28724.657971</td>\n",
       "      <td>1.104145</td>\n",
       "    </tr>\n",
       "    <tr>\n",
       "      <th>1</th>\n",
       "      <td>1</td>\n",
       "      <td>2022-05-19 00:00:45</td>\n",
       "      <td>28755.960345</td>\n",
       "      <td>1.878828</td>\n",
       "      <td>28755.570690</td>\n",
       "      <td>0.335776</td>\n",
       "      <td>28755.050000</td>\n",
       "      <td>0.573517</td>\n",
       "      <td>28754.684483</td>\n",
       "      <td>0.737259</td>\n",
       "      <td>...</td>\n",
       "      <td>28760.520690</td>\n",
       "      <td>7.383086</td>\n",
       "      <td>28760.674138</td>\n",
       "      <td>4.193586</td>\n",
       "      <td>28760.872414</td>\n",
       "      <td>0.620983</td>\n",
       "      <td>28761.067241</td>\n",
       "      <td>0.773897</td>\n",
       "      <td>28761.250000</td>\n",
       "      <td>0.854017</td>\n",
       "    </tr>\n",
       "    <tr>\n",
       "      <th>2</th>\n",
       "      <td>2</td>\n",
       "      <td>2022-05-19 00:01:15</td>\n",
       "      <td>28782.703333</td>\n",
       "      <td>1.771600</td>\n",
       "      <td>28782.131667</td>\n",
       "      <td>0.536867</td>\n",
       "      <td>28781.485000</td>\n",
       "      <td>0.402600</td>\n",
       "      <td>28781.140000</td>\n",
       "      <td>0.382467</td>\n",
       "      <td>...</td>\n",
       "      <td>28787.931667</td>\n",
       "      <td>0.427633</td>\n",
       "      <td>28788.138333</td>\n",
       "      <td>0.580383</td>\n",
       "      <td>28788.331667</td>\n",
       "      <td>0.421400</td>\n",
       "      <td>28788.506667</td>\n",
       "      <td>0.376617</td>\n",
       "      <td>28788.750000</td>\n",
       "      <td>0.425300</td>\n",
       "    </tr>\n",
       "    <tr>\n",
       "      <th>3</th>\n",
       "      <td>3</td>\n",
       "      <td>2022-05-19 00:01:45</td>\n",
       "      <td>28789.470000</td>\n",
       "      <td>1.767750</td>\n",
       "      <td>28788.766667</td>\n",
       "      <td>0.343217</td>\n",
       "      <td>28788.278333</td>\n",
       "      <td>0.243650</td>\n",
       "      <td>28788.046667</td>\n",
       "      <td>0.325300</td>\n",
       "      <td>...</td>\n",
       "      <td>28793.874833</td>\n",
       "      <td>0.486350</td>\n",
       "      <td>28794.093333</td>\n",
       "      <td>0.346800</td>\n",
       "      <td>28794.290000</td>\n",
       "      <td>1.161250</td>\n",
       "      <td>28794.483000</td>\n",
       "      <td>0.536067</td>\n",
       "      <td>28794.623333</td>\n",
       "      <td>0.395067</td>\n",
       "    </tr>\n",
       "  </tbody>\n",
       "</table>\n",
       "<p>4 rows × 82 columns</p>\n",
       "</div>"
      ],
      "text/plain": [
       "   Unnamed: 0          primary_key           bp1       bs1           bp2  \\\n",
       "0           0  2022-05-19 00:00:15  28720.075362  3.772080  28719.533333   \n",
       "1           1  2022-05-19 00:00:45  28755.960345  1.878828  28755.570690   \n",
       "2           2  2022-05-19 00:01:15  28782.703333  1.771600  28782.131667   \n",
       "3           3  2022-05-19 00:01:45  28789.470000  1.767750  28788.766667   \n",
       "\n",
       "        bs2           bp3       bs3           bp4       bs4  ...  \\\n",
       "0  1.405377  28719.011594  0.626551  28718.371014  0.505087  ...   \n",
       "1  0.335776  28755.050000  0.573517  28754.684483  0.737259  ...   \n",
       "2  0.536867  28781.485000  0.402600  28781.140000  0.382467  ...   \n",
       "3  0.343217  28788.278333  0.243650  28788.046667  0.325300  ...   \n",
       "\n",
       "           ap16      as16          ap17      as17          ap18      as18  \\\n",
       "0  28724.006522  0.418891  28724.167391  0.487558  28724.361594  0.706101   \n",
       "1  28760.520690  7.383086  28760.674138  4.193586  28760.872414  0.620983   \n",
       "2  28787.931667  0.427633  28788.138333  0.580383  28788.331667  0.421400   \n",
       "3  28793.874833  0.486350  28794.093333  0.346800  28794.290000  1.161250   \n",
       "\n",
       "           ap19      as19          ap20      as20  \n",
       "0  28724.511594  0.707326  28724.657971  1.104145  \n",
       "1  28761.067241  0.773897  28761.250000  0.854017  \n",
       "2  28788.506667  0.376617  28788.750000  0.425300  \n",
       "3  28794.483000  0.536067  28794.623333  0.395067  \n",
       "\n",
       "[4 rows x 82 columns]"
      ]
     },
     "execution_count": 2,
     "metadata": {},
     "output_type": "execute_result"
    }
   ],
   "source": [
    "data = pd.read_csv('/Users/fipm/code/abefarkas/Thalassa_Regime_Classifier/raw_data/data_set.csv')\n",
    "data.head(4)\n"
   ]
  },
  {
   "cell_type": "code",
   "execution_count": 9,
   "metadata": {},
   "outputs": [],
   "source": [
    "import pandas as pd\n",
    "import numpy as np\n",
    "from sklearn.pipeline import Pipeline\n",
    "from sklearn.impute import SimpleImputer\n",
    "from sklearn.preprocessing import MinMaxScaler\n",
    "from datetime import datetime, timezone, timedelta\n",
    "\n",
    "class DataModelPipeline():\n",
    "    def __init__(self):\n",
    "        self.preprocessing = Pipeline([            \n",
    "            ('Imputer', SimpleImputer(strategy = 'mean')),\n",
    "            # ('scaler', MinMaxScaler()),\n",
    "            ])\n",
    "        self.data = None\n",
    "        self.y = None\n",
    "        self.X = None\n",
    "       \n",
    "    def financial_features(self, data):\n",
    "        self.data = data.copy()\n",
    "        \n",
    "        # unix_timestamp = lambda x: datetime.fromtimestamp(x/1000.0, tz=timezone.utc).strftime('%Y-%m-%d %H:%M:%S')\n",
    "        str2date = lambda x: datetime.strptime(x, '%Y-%m-%d %H:%M:%S')\n",
    "        # self.data['primary_key']=self.data['ts'].apply(unix_timestamp).apply(str2date)\n",
    "        self.data['primary_key']=self.data['primary_key'].apply(str2date)\n",
    "        \n",
    "        # WAP\n",
    "        self.data['WAP'] = (self.data['bp1']*self.data['bs1']\n",
    "                +self.data['bp2']*self.data['bs2']\n",
    "                +self.data['ap1']*self.data['as1']\n",
    "                +self.data['ap2']*self.data['as2'])/(self.data['bs1']+\n",
    "                                            self.data['bs2']+\n",
    "                                            self.data['as1']+\n",
    "                                            self.data['as2'])\n",
    "    \n",
    "        # log_price\n",
    "        self.data['log_price'] = np.log(self.data['WAP'])\n",
    "        \n",
    "        # log_returns\n",
    "        self.data['log_returns'] = self.data.log_price.diff()\n",
    "\n",
    "        \n",
    "        # self.data.set_index('primary_key', inplace=True)\n",
    "        # self.data = self.data.groupby(pd.Grouper(key='primary_key', axis=0, freq='M')).std()\n",
    "        # print(self.data)\n",
    "        # self.data['realized_volatility'] = self.data['log_returns']\n",
    "        # self.data.reset_index(inplace=True)\n",
    "        \n",
    "        # realized_volatility\n",
    "        y = self.data[['primary_key','log_returns']]                \n",
    "        y = y.rolling(30).std()        \n",
    "        # moving the index as a column\n",
    "        # y.reset_index(inplace=True)\n",
    "        self.data['realized_volatility'] = y['log_returns']\n",
    "        \n",
    "        \n",
    "        \n",
    "        \n",
    "        # self.data['realized_volatility'] = np.std(self.data.log_returns)\n",
    "        \n",
    "        # volatility_t+1\n",
    "        # self.data['volatility_t+1'] = self.data['realized_volatility'].shift(-1)\n",
    "        \n",
    "        # droping any text variables\n",
    "        self.data.drop(columns=['Unnamed: 0'], inplace=True)\n",
    "        \n",
    "        return self.data\n",
    "\n",
    "    \n",
    "    def pipeline(self, data):\n",
    "        data = data.dropna().reset_index(drop=True)\n",
    "        # self.y = data[['primary_key','realized_volatility']].set_index('primary_key')        \n",
    "        self.y = data[['realized_volatility']]\n",
    "        \n",
    "        X = data.drop(columns=['realized_volatility','primary_key'])                 \n",
    "        self.X = pd.DataFrame(self.preprocessing.fit_transform(X), columns=self.preprocessing.get_feature_names_out())\n",
    "        return self.y, self.X\n",
    "\n",
    "    def predict(self, model, new_data, steps=2):\n",
    "        # only works for arima \n",
    "        n = pd.DataFrame.from_dict({'realized_volatility':new_data})\n",
    "        y_new = pd.concat((self.y, n)).reset_index(drop=True)\n",
    "        new_model = model.apply(y_new)\n",
    "        return new_model.forecast(steps)"
   ]
  },
  {
   "cell_type": "code",
   "execution_count": 10,
   "metadata": {},
   "outputs": [
    {
     "name": "stderr",
     "output_type": "stream",
     "text": [
      "/var/folders/91/6wbfy1kd3c54vx64tq8sck_00000gn/T/ipykernel_1669/1950621712.py:50: FutureWarning: Dropping of nuisance columns in rolling operations is deprecated; in a future version this will raise TypeError. Select only valid columns before calling the operation. Dropped columns were Index(['primary_key'], dtype='object')\n",
      "  y = y.rolling(30).std()\n"
     ]
    },
    {
     "data": {
      "text/plain": [
       "[<matplotlib.lines.Line2D at 0x12aa1a3a0>]"
      ]
     },
     "execution_count": 10,
     "metadata": {},
     "output_type": "execute_result"
    },
    {
     "data": {
      "image/png": "[encoded data removed]",
      "text/plain": [
       "<Figure size 432x288 with 1 Axes>"
      ]
     },
     "metadata": {
      "needs_background": "light"
     },
     "output_type": "display_data"
    }
   ],
   "source": [
    "import matplotlib.pyplot  as plt\n",
    "data_model_pipeline = DataModelPipeline()\n",
    "df = data_model_pipeline.financial_features(data)\n",
    "df.head(3)\n",
    "y, X = data_model_pipeline.pipeline(df)\n",
    "\n",
    "plt.plot(y)\n",
    "\n"
   ]
  },
  {
   "cell_type": "code",
   "execution_count": 11,
   "metadata": {},
   "outputs": [
    {
     "name": "stderr",
     "output_type": "stream",
     "text": [
      "/Users/fipm/.pyenv/versions/3.8.12/envs/thalassa/lib/python3.8/site-packages/statsmodels/base/model.py:604: ConvergenceWarning: Maximum Likelihood optimization failed to converge. Check mle_retvals\n",
      "  warnings.warn(\"Maximum Likelihood optimization failed to \"\n"
     ]
    },
    {
     "data": {
      "text/html": [
       "<table class=\"simpletable\">\n",
       "<caption>SARIMAX Results</caption>\n",
       "<tr>\n",
       "  <th>Dep. Variable:</th>   <td>realized_volatility</td> <th>  No. Observations:  </th>    <td>2850</td>   \n",
       "</tr>\n",
       "<tr>\n",
       "  <th>Model:</th>             <td>ARIMA(1, 0, 0)</td>    <th>  Log Likelihood     </th>  <td>25017.724</td>\n",
       "</tr>\n",
       "<tr>\n",
       "  <th>Date:</th>             <td>Tue, 31 May 2022</td>   <th>  AIC                </th> <td>-50029.449</td>\n",
       "</tr>\n",
       "<tr>\n",
       "  <th>Time:</th>                 <td>07:47:24</td>       <th>  BIC                </th> <td>-50011.583</td>\n",
       "</tr>\n",
       "<tr>\n",
       "  <th>Sample:</th>                   <td>0</td>          <th>  HQIC               </th> <td>-50023.006</td>\n",
       "</tr>\n",
       "<tr>\n",
       "  <th></th>                       <td> - 2850</td>       <th>                     </th>      <td> </td>    \n",
       "</tr>\n",
       "<tr>\n",
       "  <th>Covariance Type:</th>         <td>opg</td>         <th>                     </th>      <td> </td>    \n",
       "</tr>\n",
       "</table>\n",
       "<table class=\"simpletable\">\n",
       "<tr>\n",
       "     <td></td>       <th>coef</th>     <th>std err</th>      <th>z</th>      <th>P>|z|</th>  <th>[0.025</th>    <th>0.975]</th>  \n",
       "</tr>\n",
       "<tr>\n",
       "  <th>const</th>  <td>    0.0005</td> <td>  4.9e-05</td> <td>   10.393</td> <td> 0.000</td> <td>    0.000</td> <td>    0.001</td>\n",
       "</tr>\n",
       "<tr>\n",
       "  <th>ar.L1</th>  <td>    0.9858</td> <td> 1.61e-06</td> <td> 6.11e+05</td> <td> 0.000</td> <td>    0.986</td> <td>    0.986</td>\n",
       "</tr>\n",
       "<tr>\n",
       "  <th>sigma2</th> <td> 1.388e-09</td> <td> 5.21e-12</td> <td>  266.226</td> <td> 0.000</td> <td> 1.38e-09</td> <td>  1.4e-09</td>\n",
       "</tr>\n",
       "</table>\n",
       "<table class=\"simpletable\">\n",
       "<tr>\n",
       "  <th>Ljung-Box (L1) (Q):</th>     <td>88.47</td> <th>  Jarque-Bera (JB):  </th> <td>29628515.42</td>\n",
       "</tr>\n",
       "<tr>\n",
       "  <th>Prob(Q):</th>                <td>0.00</td>  <th>  Prob(JB):          </th>    <td>0.00</td>    \n",
       "</tr>\n",
       "<tr>\n",
       "  <th>Heteroskedasticity (H):</th> <td>0.12</td>  <th>  Skew:              </th>    <td>6.68</td>    \n",
       "</tr>\n",
       "<tr>\n",
       "  <th>Prob(H) (two-sided):</th>    <td>0.00</td>  <th>  Kurtosis:          </th>   <td>502.32</td>   \n",
       "</tr>\n",
       "</table><br/><br/>Warnings:<br/>[1] Covariance matrix calculated using the outer product of gradients (complex-step).<br/>[2] Covariance matrix is singular or near-singular, with condition number 1.07e+31. Standard errors may be unstable."
      ],
      "text/plain": [
       "<class 'statsmodels.iolib.summary.Summary'>\n",
       "\"\"\"\n",
       "                                SARIMAX Results                                \n",
       "===============================================================================\n",
       "Dep. Variable:     realized_volatility   No. Observations:                 2850\n",
       "Model:                  ARIMA(1, 0, 0)   Log Likelihood               25017.724\n",
       "Date:                 Tue, 31 May 2022   AIC                         -50029.449\n",
       "Time:                         07:47:24   BIC                         -50011.583\n",
       "Sample:                              0   HQIC                        -50023.006\n",
       "                                - 2850                                         \n",
       "Covariance Type:                   opg                                         \n",
       "==============================================================================\n",
       "                 coef    std err          z      P>|z|      [0.025      0.975]\n",
       "------------------------------------------------------------------------------\n",
       "const          0.0005    4.9e-05     10.393      0.000       0.000       0.001\n",
       "ar.L1          0.9858   1.61e-06   6.11e+05      0.000       0.986       0.986\n",
       "sigma2      1.388e-09   5.21e-12    266.226      0.000    1.38e-09     1.4e-09\n",
       "===================================================================================\n",
       "Ljung-Box (L1) (Q):                  88.47   Jarque-Bera (JB):          29628515.42\n",
       "Prob(Q):                              0.00   Prob(JB):                         0.00\n",
       "Heteroskedasticity (H):               0.12   Skew:                             6.68\n",
       "Prob(H) (two-sided):                  0.00   Kurtosis:                       502.32\n",
       "===================================================================================\n",
       "\n",
       "Warnings:\n",
       "[1] Covariance matrix calculated using the outer product of gradients (complex-step).\n",
       "[2] Covariance matrix is singular or near-singular, with condition number 1.07e+31. Standard errors may be unstable.\n",
       "\"\"\""
      ]
     },
     "execution_count": 11,
     "metadata": {},
     "output_type": "execute_result"
    }
   ],
   "source": [
    "from statsmodels.tsa.arima.model import ARIMA, ARIMAResults\n",
    "\n",
    "# 1. initialize the model\n",
    "# arima = ARIMA(y, order=(1, 0,0), missing='drop')\n",
    "arima = ARIMA(y, order=(1, 0,0))\n",
    "# 2. fit the models\n",
    "arima_fitted = arima.fit()\n",
    "arima_fitted.summary()"
   ]
  },
  {
   "cell_type": "code",
   "execution_count": 12,
   "metadata": {},
   "outputs": [
    {
     "data": {
      "text/plain": [
       "2851    0.985779\n",
       "2852    0.971760\n",
       "Name: predicted_mean, dtype: float64"
      ]
     },
     "execution_count": 12,
     "metadata": {},
     "output_type": "execute_result"
    }
   ],
   "source": [
    "data_model_pipeline.predict(arima_fitted, [1], 2)\n"
   ]
  },
  {
   "cell_type": "code",
   "execution_count": 109,
   "metadata": {},
   "outputs": [
    {
     "name": "stdout",
     "output_type": "stream",
     "text": [
      "      realized_volatility\n",
      "0                0.000809\n",
      "1                0.000833\n",
      "2                0.000835\n",
      "3                0.000836\n",
      "4                0.000848\n",
      "...                   ...\n",
      "2846             0.000431\n",
      "2847             0.000433\n",
      "2848             0.000433\n",
      "2849             0.000429\n",
      "2850             1.000000\n",
      "\n",
      "[2851 rows x 1 columns]\n"
     ]
    },
    {
     "data": {
      "text/plain": [
       "2851    0.985779\n",
       "2852    0.971760\n",
       "Name: predicted_mean, dtype: float64"
      ]
     },
     "execution_count": 109,
     "metadata": {},
     "output_type": "execute_result"
    }
   ],
   "source": [
    "def predict(model, new_data, steps=2):\n",
    "    n = pd.DataFrame.from_dict({'realized_volatility':new_data})\n",
    "    y_new = pd.concat((self.data,n)).reset_index(drop=True)\n",
    "    new_model = model.apply(data)\n",
    "    return new_model.forecast(steps)\n",
    "\n",
    "\n",
    "n = pd.DataFrame.from_dict({'realized_volatility':[1]})\n",
    "y_new = pd.concat((y,n)).reset_index(drop=True)\n",
    "print(y_new)\n",
    "predict(arima_fitted, y_new, steps=2)"
   ]
  },
  {
   "cell_type": "code",
   "execution_count": 139,
   "metadata": {},
   "outputs": [
    {
     "data": {
      "text/plain": [
       "<AxesSubplot:title={'center':'Probability of being in a low-variance regime'}>"
      ]
     },
     "execution_count": 139,
     "metadata": {},
     "output_type": "execute_result"
    },
    {
     "data": {
      "image/png": "[encoded data removed]",
      "text/plain": [
       "<Figure size 864x216 with 1 Axes>"
      ]
     },
     "metadata": {
      "needs_background": "light"
     },
     "output_type": "display_data"
    }
   ],
   "source": [
    "import statsmodels.api as sm\n",
    "i=30\n",
    "mod_hamilton = sm.tsa.MarkovRegression(\n",
    "    1000*y[i:], k_regimes=2, \n",
    "    exog=1000*y[:-i],\n",
    "    switching_variance=True\n",
    ")\n",
    "res_hamilton = mod_hamilton.fit()\n",
    "res_hamilton.summary()\n",
    "res_hamilton.smoothed_marginal_probabilities[0].plot(\n",
    "    title=\"Probability of being in a low-variance regime\", figsize=(12, 3)\n",
    ")"
   ]
  },
  {
   "cell_type": "code",
   "execution_count": 152,
   "metadata": {},
   "outputs": [
    {
     "ename": "NotImplementedError",
     "evalue": "",
     "output_type": "error",
     "traceback": [
      "\u001b[0;31m---------------------------------------------------------------------------\u001b[0m",
      "\u001b[0;31mNotImplementedError\u001b[0m                       Traceback (most recent call last)",
      "\u001b[1;32m/Users/fipm/code/abefarkas/Thalassa_Regime_Classifier/notebooks/FIPM_pipeline_regime_model.ipynb Cell 15'\u001b[0m in \u001b[0;36m<cell line: 1>\u001b[0;34m()\u001b[0m\n\u001b[0;32m----> <a href='vscode-notebook-cell:/Users/fipm/code/abefarkas/Thalassa_Regime_Classifier/notebooks/FIPM_pipeline_regime_model.ipynb#ch0000021?line=0'>1</a>\u001b[0m res_hamilton\u001b[39m.\u001b[39;49mpredict(start\u001b[39m=\u001b[39;49m\u001b[39m2850\u001b[39;49m, end\u001b[39m=\u001b[39;49m\u001b[39m2851\u001b[39;49m)\n",
      "File \u001b[0;32m~/.pyenv/versions/3.8.12/envs/thalassa/lib/python3.8/site-packages/statsmodels/base/wrapper.py:113\u001b[0m, in \u001b[0;36mmake_wrapper.<locals>.wrapper\u001b[0;34m(self, *args, **kwargs)\u001b[0m\n\u001b[1;32m    <a href='file:///Users/fipm/.pyenv/versions/3.8.12/envs/thalassa/lib/python3.8/site-packages/statsmodels/base/wrapper.py?line=110'>111</a>\u001b[0m     obj \u001b[39m=\u001b[39m data\u001b[39m.\u001b[39mwrap_output(func(results, \u001b[39m*\u001b[39margs, \u001b[39m*\u001b[39m\u001b[39m*\u001b[39mkwargs), how[\u001b[39m0\u001b[39m], how[\u001b[39m1\u001b[39m:])\n\u001b[1;32m    <a href='file:///Users/fipm/.pyenv/versions/3.8.12/envs/thalassa/lib/python3.8/site-packages/statsmodels/base/wrapper.py?line=111'>112</a>\u001b[0m \u001b[39melif\u001b[39;00m how:\n\u001b[0;32m--> <a href='file:///Users/fipm/.pyenv/versions/3.8.12/envs/thalassa/lib/python3.8/site-packages/statsmodels/base/wrapper.py?line=112'>113</a>\u001b[0m     obj \u001b[39m=\u001b[39m data\u001b[39m.\u001b[39mwrap_output(func(results, \u001b[39m*\u001b[39;49margs, \u001b[39m*\u001b[39;49m\u001b[39m*\u001b[39;49mkwargs), how)\n\u001b[1;32m    <a href='file:///Users/fipm/.pyenv/versions/3.8.12/envs/thalassa/lib/python3.8/site-packages/statsmodels/base/wrapper.py?line=113'>114</a>\u001b[0m \u001b[39mreturn\u001b[39;00m obj\n",
      "File \u001b[0;32m~/.pyenv/versions/3.8.12/envs/thalassa/lib/python3.8/site-packages/statsmodels/tsa/regime_switching/markov_switching.py:1954\u001b[0m, in \u001b[0;36mMarkovSwitchingResults.predict\u001b[0;34m(self, start, end, probabilities, conditional)\u001b[0m\n\u001b[1;32m   <a href='file:///Users/fipm/.pyenv/versions/3.8.12/envs/thalassa/lib/python3.8/site-packages/statsmodels/tsa/regime_switching/markov_switching.py?line=1917'>1918</a>\u001b[0m \u001b[39mdef\u001b[39;00m \u001b[39mpredict\u001b[39m(\u001b[39mself\u001b[39m, start\u001b[39m=\u001b[39m\u001b[39mNone\u001b[39;00m, end\u001b[39m=\u001b[39m\u001b[39mNone\u001b[39;00m, probabilities\u001b[39m=\u001b[39m\u001b[39mNone\u001b[39;00m,\n\u001b[1;32m   <a href='file:///Users/fipm/.pyenv/versions/3.8.12/envs/thalassa/lib/python3.8/site-packages/statsmodels/tsa/regime_switching/markov_switching.py?line=1918'>1919</a>\u001b[0m             conditional\u001b[39m=\u001b[39m\u001b[39mFalse\u001b[39;00m):\n\u001b[1;32m   <a href='file:///Users/fipm/.pyenv/versions/3.8.12/envs/thalassa/lib/python3.8/site-packages/statsmodels/tsa/regime_switching/markov_switching.py?line=1919'>1920</a>\u001b[0m     \u001b[39m\"\"\"\u001b[39;00m\n\u001b[1;32m   <a href='file:///Users/fipm/.pyenv/versions/3.8.12/envs/thalassa/lib/python3.8/site-packages/statsmodels/tsa/regime_switching/markov_switching.py?line=1920'>1921</a>\u001b[0m \u001b[39m    In-sample prediction and out-of-sample forecasting\u001b[39;00m\n\u001b[1;32m   <a href='file:///Users/fipm/.pyenv/versions/3.8.12/envs/thalassa/lib/python3.8/site-packages/statsmodels/tsa/regime_switching/markov_switching.py?line=1921'>1922</a>\u001b[0m \n\u001b[0;32m   (...)\u001b[0m\n\u001b[1;32m   <a href='file:///Users/fipm/.pyenv/versions/3.8.12/envs/thalassa/lib/python3.8/site-packages/statsmodels/tsa/regime_switching/markov_switching.py?line=1951'>1952</a>\u001b[0m \u001b[39m        forecasts. An (npredict x k_endog) array.\u001b[39;00m\n\u001b[1;32m   <a href='file:///Users/fipm/.pyenv/versions/3.8.12/envs/thalassa/lib/python3.8/site-packages/statsmodels/tsa/regime_switching/markov_switching.py?line=1952'>1953</a>\u001b[0m \u001b[39m    \"\"\"\u001b[39;00m\n\u001b[0;32m-> <a href='file:///Users/fipm/.pyenv/versions/3.8.12/envs/thalassa/lib/python3.8/site-packages/statsmodels/tsa/regime_switching/markov_switching.py?line=1953'>1954</a>\u001b[0m     \u001b[39mreturn\u001b[39;00m \u001b[39mself\u001b[39;49m\u001b[39m.\u001b[39;49mmodel\u001b[39m.\u001b[39;49mpredict(\u001b[39mself\u001b[39;49m\u001b[39m.\u001b[39;49mparams, start\u001b[39m=\u001b[39;49mstart, end\u001b[39m=\u001b[39;49mend,\n\u001b[1;32m   <a href='file:///Users/fipm/.pyenv/versions/3.8.12/envs/thalassa/lib/python3.8/site-packages/statsmodels/tsa/regime_switching/markov_switching.py?line=1954'>1955</a>\u001b[0m                               probabilities\u001b[39m=\u001b[39;49mprobabilities,\n\u001b[1;32m   <a href='file:///Users/fipm/.pyenv/versions/3.8.12/envs/thalassa/lib/python3.8/site-packages/statsmodels/tsa/regime_switching/markov_switching.py?line=1955'>1956</a>\u001b[0m                               conditional\u001b[39m=\u001b[39;49mconditional)\n",
      "File \u001b[0;32m~/.pyenv/versions/3.8.12/envs/thalassa/lib/python3.8/site-packages/statsmodels/tsa/regime_switching/markov_switching.py:710\u001b[0m, in \u001b[0;36mMarkovSwitching.predict\u001b[0;34m(self, params, start, end, probabilities, conditional)\u001b[0m\n\u001b[1;32m    <a href='file:///Users/fipm/.pyenv/versions/3.8.12/envs/thalassa/lib/python3.8/site-packages/statsmodels/tsa/regime_switching/markov_switching.py?line=705'>706</a>\u001b[0m start, end, out_of_sample, prediction_index \u001b[39m=\u001b[39m (\n\u001b[1;32m    <a href='file:///Users/fipm/.pyenv/versions/3.8.12/envs/thalassa/lib/python3.8/site-packages/statsmodels/tsa/regime_switching/markov_switching.py?line=706'>707</a>\u001b[0m     \u001b[39mself\u001b[39m\u001b[39m.\u001b[39m_get_prediction_index(start, end))\n\u001b[1;32m    <a href='file:///Users/fipm/.pyenv/versions/3.8.12/envs/thalassa/lib/python3.8/site-packages/statsmodels/tsa/regime_switching/markov_switching.py?line=708'>709</a>\u001b[0m \u001b[39mif\u001b[39;00m out_of_sample \u001b[39m>\u001b[39m \u001b[39m0\u001b[39m:\n\u001b[0;32m--> <a href='file:///Users/fipm/.pyenv/versions/3.8.12/envs/thalassa/lib/python3.8/site-packages/statsmodels/tsa/regime_switching/markov_switching.py?line=709'>710</a>\u001b[0m     \u001b[39mraise\u001b[39;00m \u001b[39mNotImplementedError\u001b[39;00m\n\u001b[1;32m    <a href='file:///Users/fipm/.pyenv/versions/3.8.12/envs/thalassa/lib/python3.8/site-packages/statsmodels/tsa/regime_switching/markov_switching.py?line=711'>712</a>\u001b[0m \u001b[39m# Perform in-sample prediction\u001b[39;00m\n\u001b[1;32m    <a href='file:///Users/fipm/.pyenv/versions/3.8.12/envs/thalassa/lib/python3.8/site-packages/statsmodels/tsa/regime_switching/markov_switching.py?line=712'>713</a>\u001b[0m predict \u001b[39m=\u001b[39m \u001b[39mself\u001b[39m\u001b[39m.\u001b[39mpredict_conditional(params)\n",
      "\u001b[0;31mNotImplementedError\u001b[0m: "
     ]
    }
   ],
   "source": [
    "res_hamilton.predict(start=2850, end=2851)\n"
   ]
  }
 ],
 "metadata": {
  "interpreter": {
   "hash": "1f53de40d125f7884f636dff8497593e6e6ea391da6f1e4c596278056577faa2"
  },
  "kernelspec": {
   "display_name": "Python 3.8.12 64-bit ('thalassa')",
   "language": "python",
   "name": "python3"
  },
  "language_info": {
   "codemirror_mode": {
    "name": "ipython",
    "version": 3
   },
   "file_extension": ".py",
   "mimetype": "text/x-python",
   "name": "python",
   "nbconvert_exporter": "python",
   "pygments_lexer": "ipython3",
   "version": "3.8.12"
  },
  "orig_nbformat": 4
 },
 "nbformat": 4,
 "nbformat_minor": 2
}
