{
 "cells": [
  {
   "cell_type": "code",
   "execution_count": 1,
   "id": "040940c0",
   "metadata": {},
   "outputs": [],
   "source": [
    "import streamlit as st # web development\n",
    "import numpy as np # np mean, np random \n",
    "import pandas as pd # read csv, df manipulation\n",
    "import time # to simulate a real time data, time loop \n",
    "import plotly.express as px # interactive charts "
   ]
  },
  {
   "cell_type": "code",
   "execution_count": 2,
   "id": "ad7d96eb",
   "metadata": {},
   "outputs": [],
   "source": [
    "# read csv from a github repo\n",
    "df = pd.read_csv(\"https://raw.githubusercontent.com/Lexie88rus/bank-marketing-analysis/master/bank.csv\")"
   ]
  },
  {
   "cell_type": "code",
   "execution_count": 3,
   "id": "19bd6d87",
   "metadata": {},
   "outputs": [
    {
     "name": "stderr",
     "output_type": "stream",
     "text": [
      "2022-05-26 11:41:59.046 \n",
      "  \u001b[33m\u001b[1mWarning:\u001b[0m to view this Streamlit app on a browser, run it with the following\n",
      "  command:\n",
      "\n",
      "    streamlit run /home/sarah/.pyenv/versions/3.8.12/envs/Thalassa_Regime_Classifier/lib/python3.8/site-packages/ipykernel_launcher.py [ARGUMENTS]\n"
     ]
    }
   ],
   "source": [
    "st.set_page_config(\n",
    "    page_title = 'Real-Time Data Science Dashboard',\n",
    "    page_icon = '✅',\n",
    "    layout = 'wide'\n",
    ")\n",
    "\n",
    "# dashboard title\n",
    "\n",
    "st.title(\"Real-Time / Live Data Science Dashboard\")\n",
    "\n",
    "# top-level filters \n",
    "\n",
    "job_filter = st.selectbox(\"Select the Job\", pd.unique(df['job']))\n",
    "\n",
    "\n",
    "# creating a single-element container.\n",
    "placeholder = st.empty()\n",
    "\n",
    "# dataframe filter \n",
    "\n",
    "df = df[df['job']==job_filter]"
   ]
  },
  {
   "cell_type": "code",
   "execution_count": 4,
   "id": "a45d0e26",
   "metadata": {},
   "outputs": [
    {
     "ename": "KeyboardInterrupt",
     "evalue": "",
     "output_type": "error",
     "traceback": [
      "\u001b[0;31m---------------------------------------------------------------------------\u001b[0m",
      "\u001b[0;31mKeyboardInterrupt\u001b[0m                         Traceback (most recent call last)",
      "Input \u001b[0;32mIn [4]\u001b[0m, in \u001b[0;36m<cell line: 3>\u001b[0;34m()\u001b[0m\n\u001b[1;32m     36\u001b[0m st\u001b[38;5;241m.\u001b[39mmarkdown(\u001b[38;5;124m\"\u001b[39m\u001b[38;5;124m### Detailed Data View\u001b[39m\u001b[38;5;124m\"\u001b[39m)\n\u001b[1;32m     37\u001b[0m st\u001b[38;5;241m.\u001b[39mdataframe(df)\n\u001b[0;32m---> 38\u001b[0m \u001b[43mtime\u001b[49m\u001b[38;5;241;43m.\u001b[39;49m\u001b[43msleep\u001b[49m\u001b[43m(\u001b[49m\u001b[38;5;241;43m1\u001b[39;49m\u001b[43m)\u001b[49m\n",
      "\u001b[0;31mKeyboardInterrupt\u001b[0m: "
     ]
    }
   ],
   "source": [
    "# near real-time / live feed simulation \n",
    "\n",
    "for seconds in range(200):\n",
    "#while True: \n",
    "    \n",
    "    df['age_new'] = df['age'] * np.random.choice(range(1,5))\n",
    "    df['balance_new'] = df['balance'] * np.random.choice(range(1,5))\n",
    "\n",
    "    # creating KPIs \n",
    "    avg_age = np.mean(df['age_new']) \n",
    "\n",
    "    count_married = int(df[(df[\"marital\"]=='married')]['marital'].count() + np.random.choice(range(1,30)))\n",
    "    \n",
    "    balance = np.mean(df['balance_new'])\n",
    "\n",
    "    with placeholder.container():\n",
    "        # create three columns\n",
    "        kpi1, kpi2, kpi3 = st.columns(3)\n",
    "\n",
    "        # fill in those three columns with respective metrics or KPIs \n",
    "        kpi1.metric(label=\"Age ⏳\", value=round(avg_age), delta= round(avg_age) - 10)\n",
    "        kpi2.metric(label=\"Married Count 💍\", value= int(count_married), delta= - 10 + count_married)\n",
    "        kpi3.metric(label=\"A/C Balance ＄\", value= f\"$ {round(balance,2)} \", delta= - round(balance/count_married) * 100)\n",
    "\n",
    "        # create two columns for charts \n",
    "\n",
    "        fig_col1, fig_col2 = st.columns(2)\n",
    "        with fig_col1:\n",
    "            st.markdown(\"### First Chart\")\n",
    "            fig = px.density_heatmap(data_frame=df, y = 'age_new', x = 'marital')\n",
    "            st.write(fig)\n",
    "        with fig_col2:\n",
    "            st.markdown(\"### Second Chart\")\n",
    "            fig2 = px.histogram(data_frame = df, x = 'age_new')\n",
    "            st.write(fig2)\n",
    "        st.markdown(\"### Detailed Data View\")\n",
    "        st.dataframe(df)\n",
    "        time.sleep(1)\n",
    "    #placeholder.empty()"
   ]
  },
  {
   "cell_type": "code",
   "execution_count": null,
   "id": "138881b9",
   "metadata": {},
   "outputs": [],
   "source": []
  }
 ],
 "metadata": {
  "kernelspec": {
   "display_name": "Python 3 (ipykernel)",
   "language": "python",
   "name": "python3"
  },
  "language_info": {
   "codemirror_mode": {
    "name": "ipython",
    "version": 3
   },
   "file_extension": ".py",
   "mimetype": "text/x-python",
   "name": "python",
   "nbconvert_exporter": "python",
   "pygments_lexer": "ipython3",
   "version": "3.8.12"
  },
  "toc": {
   "base_numbering": 1,
   "nav_menu": {},
   "number_sections": true,
   "sideBar": true,
   "skip_h1_title": false,
   "title_cell": "Table of Contents",
   "title_sidebar": "Contents",
   "toc_cell": false,
   "toc_position": {},
   "toc_section_display": true,
   "toc_window_display": false
  }
 },
 "nbformat": 4,
 "nbformat_minor": 5
}
