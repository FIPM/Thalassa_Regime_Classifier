{
 "cells": [
  {
   "cell_type": "code",
   "execution_count": 7,
   "metadata": {},
   "outputs": [],
   "source": [
    "# pip install websocket-client\n",
    "from websocket import create_connection"
   ]
  },
  {
   "cell_type": "code",
   "execution_count": null,
   "metadata": {},
   "outputs": [],
   "source": [
    "# Import WebSocket client library\n",
    "\n",
    "\n",
    "depth = 5\n",
    "symbol = 'BTCUSDT'        \n",
    "socket = 'wss://stream.binance.com:9443/ws/{}@depth{}'.format(symbol.lower(),depth)\n",
    "# Connect to WebSocket API and subscribe to trade feed for XBT/USD and XRP/USD\n",
    "ws = create_connection(socket)\n",
    "# Infinite loop waiting for WebSocket data\n",
    "while True:\n",
    "    print(ws.recv())"
   ]
  },
  {
   "cell_type": "code",
   "execution_count": 8,
   "metadata": {},
   "outputs": [],
   "source": [
    "# Import WebSocket client library (and others)\n",
    "import websocket\n",
    "import _thread\n",
    "import time\n",
    "\n",
    "\n",
    "class dos():\n",
    "    def __init__(self):\n",
    "        self.data=None\n",
    "        depth = 5\n",
    "        symbol = 'BTCUSDT'        \n",
    "        socket = 'wss://stream.binance.com:9443/ws/{}@depth{}'.format(symbol.lower(),depth)\n",
    "        # Connect to WebSocket API and subscribe to trade feed for XBT/USD and XRP/USD\n",
    "        self.ws = create_connection(socket)\n",
    "    \n",
    "    def ws_thread(self):\n",
    "        while True:\n",
    "            self.data=self.ws.recv()\n",
    "            time.sleep(1)\n",
    "            \n",
    "    def get_data(self):\n",
    "        return self.data\n",
    "            \n",
    "    def start(self):    \n",
    "        # Start a new thread for the WebSocket interface\n",
    "        _thread.start_new_thread(self.ws_thread, ())\n"
   ]
  },
  {
   "cell_type": "code",
   "execution_count": 9,
   "metadata": {},
   "outputs": [],
   "source": [
    "p = dos()\n",
    "p.start()"
   ]
  },
  {
   "cell_type": "code",
   "execution_count": 1,
   "metadata": {},
   "outputs": [
    {
     "ename": "NameError",
     "evalue": "name 'p' is not defined",
     "output_type": "error",
     "traceback": [
      "\u001b[0;31m---------------------------------------------------------------------------\u001b[0m",
      "\u001b[0;31mNameError\u001b[0m                                 Traceback (most recent call last)",
      "\u001b[1;32m/Users/fipm/OneDrive/GitHubProjects/Thalassa_Regime_Classifier/notebooks/FIPM_async_function.ipynb Cell 5'\u001b[0m in \u001b[0;36m<cell line: 1>\u001b[0;34m()\u001b[0m\n\u001b[0;32m----> <a href='vscode-notebook-cell:/Users/fipm/OneDrive/GitHubProjects/Thalassa_Regime_Classifier/notebooks/FIPM_async_function.ipynb#ch0000005?line=0'>1</a>\u001b[0m p\u001b[39m.\u001b[39mget_data()\n",
      "\u001b[0;31mNameError\u001b[0m: name 'p' is not defined"
     ]
    }
   ],
   "source": [
    "p.get_data()"
   ]
  },
  {
   "cell_type": "markdown",
   "metadata": {},
   "source": [
    "# Modifying stream_data program"
   ]
  },
  {
   "cell_type": "code",
   "execution_count": 2,
   "metadata": {},
   "outputs": [],
   "source": [
    "import datetime\n",
    "import numpy as np\n",
    "import pandas as pd\n",
    "from datetime import datetime\n",
    "from websocket import create_connection\n",
    "import json\n",
    "import _thread\n",
    "import time\n",
    "\n"
   ]
  },
  {
   "cell_type": "code",
   "execution_count": 3,
   "metadata": {},
   "outputs": [],
   "source": [
    "class StreamingData():\n",
    "    def __init__(self):\n",
    "        self.depth = 20\n",
    "        self.df_0 = None\n",
    "        self.df = None\n",
    "        # self.model = joblib.load('/Users/fipm/code/abefarkas/Thalassa_Regime_Classifier/model.joblib')\n",
    "        self.symbol = 'BTCUSDT'\n",
    "        self.socket = 'wss://stream.binance.com:9443/ws/{}@depth{}'.format(self.symbol.lower(),self.depth)\n",
    "        self.ws = None\n",
    "        \n",
    "    def my_json(self, json_message):\n",
    "        '''transforming the data to a dict type'''\n",
    "        size = len(np.array(json_message['bids'])[:,0])\n",
    "        return {\n",
    "            **{'primary_key':[datetime.now()]},\n",
    "            **{'bp'+str(key):[float(value)] for key,value in zip(np.arange(0,size)+1,np.array(json_message['bids'])[:,0])},\n",
    "            **{'bs'+str(key):[float(value)] for key,value in zip(np.arange(0,size)+1,np.array(json_message['bids'])[:,1])},\n",
    "            **{'ap'+str(key):[float(value)] for key,value in zip(np.arange(0,size)+1,np.array(json_message['asks'])[:,0])},\n",
    "            **{'as'+str(key):[float(value)] for key,value in zip(np.arange(0,size)+1,np.array(json_message['asks'])[:,1])}}\n",
    "\n",
    "    def my_json_0(self, size):\n",
    "        '''transforming the data to a dict type'''\n",
    "        return {\n",
    "            **{'primary_key':[datetime.now()]},\n",
    "            **{'bp'+str(key):[value] for key,value in zip(np.arange(0,size)+1,(np.arange(0,size)+1)*np.nan)},\n",
    "            **{'bs'+str(key):[value] for key,value in zip(np.arange(0,size)+1,(np.arange(0,size)+1)*np.nan)},\n",
    "            **{'ap'+str(key):[value] for key,value in zip(np.arange(0,size)+1,(np.arange(0,size)+1)*np.nan)},\n",
    "            **{'as'+str(key):[value] for key,value in zip(np.arange(0,size)+1,(np.arange(0,size)+1)*np.nan)}}\n",
    "\n",
    "    def preprocessing_streamed_data(self,df_ob, rolling_window):\n",
    "        '''preprocessing of data for streamed data'''\n",
    "        # aggregating by seconds\n",
    "        df_agg = df_ob.groupby(pd.Grouper(key='primary_key', axis=0, freq='S')).mean()\n",
    "        # applying rolling window of rolling_window lenght\n",
    "\n",
    "        # COMMENTED NEXT LINE SO THAT THE STREAMED DATA IS AGGREGATED BY SECOND\n",
    "        # ALL FEATURES ARE CREATED IN THE DATA-MODEL-PIPELINE\n",
    "\n",
    "        # df_agg = df_agg.rolling(str(rolling_window)+'S').mean()\n",
    "        # moving the index as a column\n",
    "        df_agg.reset_index(inplace=True)\n",
    "        # keeping the last 50 rows (most recent information)\n",
    "        df_agg = df_agg.dropna().tail(200)\n",
    "\n",
    "        return df_agg\n",
    "    \n",
    "    def ws_stream_data(self, rolling_window=30):\n",
    "        '''clean the stream data'''\n",
    "        while True:\n",
    "            df = pd.DataFrame.from_dict(self.my_json(json.loads(self.ws.recv())))\n",
    "            self.df_0 = pd.concat([self.df_0, df], axis=0)\n",
    "            # to keep in memory enough data to have 50 rows\n",
    "            # after triggering preprocessing_streamed_data\n",
    "            self.df_0 = self.df_0.tail(500)\n",
    "            # first 29 rolling windows will have less than 29 obs when calculating the aggregation.\n",
    "            # better than waiting 30 seconds to plot first observation in streamlit\n",
    "            self.df = self.preprocessing_streamed_data(self.df_0, rolling_window).reset_index(drop=True)\n",
    "            # print(self.df[['primary_key']])\n",
    "            time.sleep(.5)\n",
    "         \n",
    "    def get_stream_data(self):\n",
    "        return self.df\n",
    "    \n",
    "    def start(self):\n",
    "        '''start the connection with the server'''\n",
    "        self.df_0 = pd.DataFrame.from_dict(self.my_json_0(self.depth))\n",
    "        self.ws = create_connection(self.socket)\n",
    "        # Start a new thread for the WebSocket interface\n",
    "        _thread.start_new_thread(self.ws_stream_data, ())\n",
    "\n",
    "    \n",
    "\n",
    "    \n",
    "w = StreamingData()\n",
    "w.start()            \n"
   ]
  },
  {
   "cell_type": "code",
   "execution_count": 1,
   "metadata": {},
   "outputs": [
    {
     "ename": "NameError",
     "evalue": "name 'w' is not defined",
     "output_type": "error",
     "traceback": [
      "\u001b[0;31m---------------------------------------------------------------------------\u001b[0m",
      "\u001b[0;31mNameError\u001b[0m                                 Traceback (most recent call last)",
      "\u001b[1;32m/Users/fipm/OneDrive/GitHubProjects/Thalassa_Regime_Classifier/notebooks/FIPM_async_function.ipynb Cell 5'\u001b[0m in \u001b[0;36m<cell line: 1>\u001b[0;34m()\u001b[0m\n\u001b[0;32m----> <a href='vscode-notebook-cell:/Users/fipm/OneDrive/GitHubProjects/Thalassa_Regime_Classifier/notebooks/FIPM_async_function.ipynb#ch0000004?line=0'>1</a>\u001b[0m w\u001b[39m.\u001b[39mget_stream_data()\n",
      "\u001b[0;31mNameError\u001b[0m: name 'w' is not defined"
     ]
    }
   ],
   "source": [
    "w.get_stream_data()"
   ]
  }
 ],
 "metadata": {
  "kernelspec": {
   "display_name": "Python 3.8.12 64-bit ('thalassa_regime_classifier')",
   "language": "python",
   "name": "python3"
  },
  "language_info": {
   "codemirror_mode": {
    "name": "ipython",
    "version": 3
   },
   "file_extension": ".py",
   "mimetype": "text/x-python",
   "name": "python",
   "nbconvert_exporter": "python",
   "pygments_lexer": "ipython3",
   "version": "3.8.12"
  },
  "orig_nbformat": 4,
  "vscode": {
   "interpreter": {
    "hash": "330425ff25e9af3d6d84689bbc261d04fa35923c758aaf73d1d4801053638bad"
   }
  }
 },
 "nbformat": 4,
 "nbformat_minor": 2
}
