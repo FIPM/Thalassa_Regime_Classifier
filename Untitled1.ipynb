{
 "cells": [
  {
   "cell_type": "code",
   "execution_count": 1,
   "id": "04ec17d4",
   "metadata": {},
   "outputs": [],
   "source": [
    "import numpy as np\n",
    "import pandas as pd\n",
    "from sklearn.model_selection import TimeSeriesSplit\n"
   ]
  },
  {
   "cell_type": "code",
   "execution_count": 2,
   "id": "30422415",
   "metadata": {},
   "outputs": [
    {
     "data": {
      "text/html": [
       "<div>\n",
       "<style scoped>\n",
       "    .dataframe tbody tr th:only-of-type {\n",
       "        vertical-align: middle;\n",
       "    }\n",
       "\n",
       "    .dataframe tbody tr th {\n",
       "        vertical-align: top;\n",
       "    }\n",
       "\n",
       "    .dataframe thead th {\n",
       "        text-align: right;\n",
       "    }\n",
       "</style>\n",
       "<table border=\"1\" class=\"dataframe\">\n",
       "  <thead>\n",
       "    <tr style=\"text-align: right;\">\n",
       "      <th></th>\n",
       "      <th>symbol</th>\n",
       "      <th>ts</th>\n",
       "      <th>last_update_id</th>\n",
       "      <th>bp1</th>\n",
       "      <th>bs1</th>\n",
       "      <th>bp2</th>\n",
       "      <th>bs2</th>\n",
       "      <th>bp3</th>\n",
       "      <th>bs3</th>\n",
       "      <th>bp4</th>\n",
       "      <th>...</th>\n",
       "      <th>ap16</th>\n",
       "      <th>as16</th>\n",
       "      <th>ap17</th>\n",
       "      <th>as17</th>\n",
       "      <th>ap18</th>\n",
       "      <th>as18</th>\n",
       "      <th>ap19</th>\n",
       "      <th>as19</th>\n",
       "      <th>ap20</th>\n",
       "      <th>as20</th>\n",
       "    </tr>\n",
       "  </thead>\n",
       "  <tbody>\n",
       "    <tr>\n",
       "      <th>0</th>\n",
       "      <td>BTCUSDT</td>\n",
       "      <td>1645833600210</td>\n",
       "      <td>1240612616670</td>\n",
       "      <td>39205.3</td>\n",
       "      <td>3.75</td>\n",
       "      <td>39204.5</td>\n",
       "      <td>0.047</td>\n",
       "      <td>39203.9</td>\n",
       "      <td>0.27</td>\n",
       "      <td>39202.1</td>\n",
       "      <td>...</td>\n",
       "      <td>39211.7</td>\n",
       "      <td>0.173</td>\n",
       "      <td>39211.8</td>\n",
       "      <td>0.48</td>\n",
       "      <td>39211.9</td>\n",
       "      <td>0.169</td>\n",
       "      <td>39212.0</td>\n",
       "      <td>0.005</td>\n",
       "      <td>39212.1</td>\n",
       "      <td>0.001</td>\n",
       "    </tr>\n",
       "    <tr>\n",
       "      <th>1</th>\n",
       "      <td>BTCUSDT</td>\n",
       "      <td>1645833600705</td>\n",
       "      <td>1240612848684</td>\n",
       "      <td>39205.3</td>\n",
       "      <td>3.75</td>\n",
       "      <td>39204.5</td>\n",
       "      <td>0.047</td>\n",
       "      <td>39203.9</td>\n",
       "      <td>0.27</td>\n",
       "      <td>39202.1</td>\n",
       "      <td>...</td>\n",
       "      <td>39211.7</td>\n",
       "      <td>0.173</td>\n",
       "      <td>39211.8</td>\n",
       "      <td>0.48</td>\n",
       "      <td>39211.9</td>\n",
       "      <td>0.169</td>\n",
       "      <td>39212.0</td>\n",
       "      <td>0.005</td>\n",
       "      <td>39212.1</td>\n",
       "      <td>0.001</td>\n",
       "    </tr>\n",
       "  </tbody>\n",
       "</table>\n",
       "<p>2 rows × 83 columns</p>\n",
       "</div>"
      ],
      "text/plain": [
       "    symbol             ts  last_update_id      bp1   bs1      bp2    bs2  \\\n",
       "0  BTCUSDT  1645833600210   1240612616670  39205.3  3.75  39204.5  0.047   \n",
       "1  BTCUSDT  1645833600705   1240612848684  39205.3  3.75  39204.5  0.047   \n",
       "\n",
       "       bp3   bs3      bp4  ...     ap16   as16     ap17  as17     ap18   as18  \\\n",
       "0  39203.9  0.27  39202.1  ...  39211.7  0.173  39211.8  0.48  39211.9  0.169   \n",
       "1  39203.9  0.27  39202.1  ...  39211.7  0.173  39211.8  0.48  39211.9  0.169   \n",
       "\n",
       "      ap19   as19     ap20   as20  \n",
       "0  39212.0  0.005  39212.1  0.001  \n",
       "1  39212.0  0.005  39212.1  0.001  \n",
       "\n",
       "[2 rows x 83 columns]"
      ]
     },
     "execution_count": 2,
     "metadata": {},
     "output_type": "execute_result"
    }
   ],
   "source": [
    "#small sample for initial testing\n",
    "data_s = pd.read_csv('raw_data/BTCUSDT_S_DEPTH_2022_02_26_05_26.csv')\n",
    "data_s.head(2)"
   ]
  },
  {
   "cell_type": "code",
   "execution_count": 3,
   "id": "eb6b9666",
   "metadata": {},
   "outputs": [
    {
     "data": {
      "text/plain": [
       "(13264949, 83)"
      ]
     },
     "execution_count": 3,
     "metadata": {},
     "output_type": "execute_result"
    }
   ],
   "source": [
    "data_s.shape"
   ]
  },
  {
   "cell_type": "code",
   "execution_count": 1,
   "id": "9dd79b7b",
   "metadata": {},
   "outputs": [
    {
     "data": {
      "text/plain": [
       "'/Users/abefarkas/code/abefarkas/Thalassa_Regime_Classifier'"
      ]
     },
     "execution_count": 1,
     "metadata": {},
     "output_type": "execute_result"
    }
   ],
   "source": [
    "pwd"
   ]
  },
  {
   "cell_type": "code",
   "execution_count": null,
   "id": "5926032c",
   "metadata": {},
   "outputs": [],
   "source": []
  }
 ],
 "metadata": {
  "kernelspec": {
   "display_name": "Python 3 (ipykernel)",
   "language": "python",
   "name": "python3"
  },
  "language_info": {
   "codemirror_mode": {
    "name": "ipython",
    "version": 3
   },
   "file_extension": ".py",
   "mimetype": "text/x-python",
   "name": "python",
   "nbconvert_exporter": "python",
   "pygments_lexer": "ipython3",
   "version": "3.8.13"
  },
  "toc": {
   "base_numbering": 1,
   "nav_menu": {},
   "number_sections": true,
   "sideBar": true,
   "skip_h1_title": false,
   "title_cell": "Table of Contents",
   "title_sidebar": "Contents",
   "toc_cell": false,
   "toc_position": {},
   "toc_section_display": true,
   "toc_window_display": false
  }
 },
 "nbformat": 4,
 "nbformat_minor": 5
}
