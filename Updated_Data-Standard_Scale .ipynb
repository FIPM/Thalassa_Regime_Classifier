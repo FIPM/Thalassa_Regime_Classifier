{
 "cells": [
  {
   "cell_type": "code",
   "execution_count": 1,
   "id": "bef68ea0",
   "metadata": {},
   "outputs": [],
   "source": [
    "import pandas as pd\n",
    "import numpy as np\n",
    "from sklearn.cluster import KMeans\n",
    "import matplotlib.pyplot as plt\n",
    "import seaborn as sns"
   ]
  },
  {
   "cell_type": "code",
   "execution_count": 2,
   "id": "9e142c72",
   "metadata": {},
   "outputs": [],
   "source": [
    "data = pd.read_csv('/Users/abefarkas/Project OB Data/data_set.csv')"
   ]
  },
  {
   "cell_type": "code",
   "execution_count": 3,
   "id": "dd0d3200",
   "metadata": {},
   "outputs": [
    {
     "data": {
      "text/html": [
       "<div>\n",
       "<style scoped>\n",
       "    .dataframe tbody tr th:only-of-type {\n",
       "        vertical-align: middle;\n",
       "    }\n",
       "\n",
       "    .dataframe tbody tr th {\n",
       "        vertical-align: top;\n",
       "    }\n",
       "\n",
       "    .dataframe thead th {\n",
       "        text-align: right;\n",
       "    }\n",
       "</style>\n",
       "<table border=\"1\" class=\"dataframe\">\n",
       "  <thead>\n",
       "    <tr style=\"text-align: right;\">\n",
       "      <th></th>\n",
       "      <th>Unnamed: 0</th>\n",
       "      <th>primary_key</th>\n",
       "      <th>bp1</th>\n",
       "      <th>bs1</th>\n",
       "      <th>bp2</th>\n",
       "      <th>bs2</th>\n",
       "      <th>bp3</th>\n",
       "      <th>bs3</th>\n",
       "      <th>bp4</th>\n",
       "      <th>bs4</th>\n",
       "      <th>...</th>\n",
       "      <th>ap16</th>\n",
       "      <th>as16</th>\n",
       "      <th>ap17</th>\n",
       "      <th>as17</th>\n",
       "      <th>ap18</th>\n",
       "      <th>as18</th>\n",
       "      <th>ap19</th>\n",
       "      <th>as19</th>\n",
       "      <th>ap20</th>\n",
       "      <th>as20</th>\n",
       "    </tr>\n",
       "  </thead>\n",
       "  <tbody>\n",
       "    <tr>\n",
       "      <th>0</th>\n",
       "      <td>0</td>\n",
       "      <td>2022-05-19 00:00:15</td>\n",
       "      <td>28720.075362</td>\n",
       "      <td>3.772080</td>\n",
       "      <td>28719.533333</td>\n",
       "      <td>1.405377</td>\n",
       "      <td>28719.011594</td>\n",
       "      <td>0.626551</td>\n",
       "      <td>28718.371014</td>\n",
       "      <td>0.505087</td>\n",
       "      <td>...</td>\n",
       "      <td>28724.006522</td>\n",
       "      <td>0.418891</td>\n",
       "      <td>28724.167391</td>\n",
       "      <td>0.487558</td>\n",
       "      <td>28724.361594</td>\n",
       "      <td>0.706101</td>\n",
       "      <td>28724.511594</td>\n",
       "      <td>0.707326</td>\n",
       "      <td>28724.657971</td>\n",
       "      <td>1.104145</td>\n",
       "    </tr>\n",
       "    <tr>\n",
       "      <th>1</th>\n",
       "      <td>1</td>\n",
       "      <td>2022-05-19 00:00:45</td>\n",
       "      <td>28755.960345</td>\n",
       "      <td>1.878828</td>\n",
       "      <td>28755.570690</td>\n",
       "      <td>0.335776</td>\n",
       "      <td>28755.050000</td>\n",
       "      <td>0.573517</td>\n",
       "      <td>28754.684483</td>\n",
       "      <td>0.737259</td>\n",
       "      <td>...</td>\n",
       "      <td>28760.520690</td>\n",
       "      <td>7.383086</td>\n",
       "      <td>28760.674138</td>\n",
       "      <td>4.193586</td>\n",
       "      <td>28760.872414</td>\n",
       "      <td>0.620983</td>\n",
       "      <td>28761.067241</td>\n",
       "      <td>0.773897</td>\n",
       "      <td>28761.250000</td>\n",
       "      <td>0.854017</td>\n",
       "    </tr>\n",
       "    <tr>\n",
       "      <th>2</th>\n",
       "      <td>2</td>\n",
       "      <td>2022-05-19 00:01:15</td>\n",
       "      <td>28782.703333</td>\n",
       "      <td>1.771600</td>\n",
       "      <td>28782.131667</td>\n",
       "      <td>0.536867</td>\n",
       "      <td>28781.485000</td>\n",
       "      <td>0.402600</td>\n",
       "      <td>28781.140000</td>\n",
       "      <td>0.382467</td>\n",
       "      <td>...</td>\n",
       "      <td>28787.931667</td>\n",
       "      <td>0.427633</td>\n",
       "      <td>28788.138333</td>\n",
       "      <td>0.580383</td>\n",
       "      <td>28788.331667</td>\n",
       "      <td>0.421400</td>\n",
       "      <td>28788.506667</td>\n",
       "      <td>0.376617</td>\n",
       "      <td>28788.750000</td>\n",
       "      <td>0.425300</td>\n",
       "    </tr>\n",
       "    <tr>\n",
       "      <th>3</th>\n",
       "      <td>3</td>\n",
       "      <td>2022-05-19 00:01:45</td>\n",
       "      <td>28789.470000</td>\n",
       "      <td>1.767750</td>\n",
       "      <td>28788.766667</td>\n",
       "      <td>0.343217</td>\n",
       "      <td>28788.278333</td>\n",
       "      <td>0.243650</td>\n",
       "      <td>28788.046667</td>\n",
       "      <td>0.325300</td>\n",
       "      <td>...</td>\n",
       "      <td>28793.874833</td>\n",
       "      <td>0.486350</td>\n",
       "      <td>28794.093333</td>\n",
       "      <td>0.346800</td>\n",
       "      <td>28794.290000</td>\n",
       "      <td>1.161250</td>\n",
       "      <td>28794.483000</td>\n",
       "      <td>0.536067</td>\n",
       "      <td>28794.623333</td>\n",
       "      <td>0.395067</td>\n",
       "    </tr>\n",
       "    <tr>\n",
       "      <th>4</th>\n",
       "      <td>4</td>\n",
       "      <td>2022-05-19 00:02:15</td>\n",
       "      <td>28788.382759</td>\n",
       "      <td>1.634448</td>\n",
       "      <td>28787.839655</td>\n",
       "      <td>0.342845</td>\n",
       "      <td>28787.370690</td>\n",
       "      <td>0.396414</td>\n",
       "      <td>28787.039655</td>\n",
       "      <td>0.232483</td>\n",
       "      <td>...</td>\n",
       "      <td>28792.984483</td>\n",
       "      <td>0.383293</td>\n",
       "      <td>28793.143103</td>\n",
       "      <td>0.595362</td>\n",
       "      <td>28793.387931</td>\n",
       "      <td>0.417172</td>\n",
       "      <td>28793.587931</td>\n",
       "      <td>0.473741</td>\n",
       "      <td>28793.763793</td>\n",
       "      <td>0.417776</td>\n",
       "    </tr>\n",
       "  </tbody>\n",
       "</table>\n",
       "<p>5 rows × 82 columns</p>\n",
       "</div>"
      ],
      "text/plain": [
       "   Unnamed: 0          primary_key           bp1       bs1           bp2  \\\n",
       "0           0  2022-05-19 00:00:15  28720.075362  3.772080  28719.533333   \n",
       "1           1  2022-05-19 00:00:45  28755.960345  1.878828  28755.570690   \n",
       "2           2  2022-05-19 00:01:15  28782.703333  1.771600  28782.131667   \n",
       "3           3  2022-05-19 00:01:45  28789.470000  1.767750  28788.766667   \n",
       "4           4  2022-05-19 00:02:15  28788.382759  1.634448  28787.839655   \n",
       "\n",
       "        bs2           bp3       bs3           bp4       bs4  ...  \\\n",
       "0  1.405377  28719.011594  0.626551  28718.371014  0.505087  ...   \n",
       "1  0.335776  28755.050000  0.573517  28754.684483  0.737259  ...   \n",
       "2  0.536867  28781.485000  0.402600  28781.140000  0.382467  ...   \n",
       "3  0.343217  28788.278333  0.243650  28788.046667  0.325300  ...   \n",
       "4  0.342845  28787.370690  0.396414  28787.039655  0.232483  ...   \n",
       "\n",
       "           ap16      as16          ap17      as17          ap18      as18  \\\n",
       "0  28724.006522  0.418891  28724.167391  0.487558  28724.361594  0.706101   \n",
       "1  28760.520690  7.383086  28760.674138  4.193586  28760.872414  0.620983   \n",
       "2  28787.931667  0.427633  28788.138333  0.580383  28788.331667  0.421400   \n",
       "3  28793.874833  0.486350  28794.093333  0.346800  28794.290000  1.161250   \n",
       "4  28792.984483  0.383293  28793.143103  0.595362  28793.387931  0.417172   \n",
       "\n",
       "           ap19      as19          ap20      as20  \n",
       "0  28724.511594  0.707326  28724.657971  1.104145  \n",
       "1  28761.067241  0.773897  28761.250000  0.854017  \n",
       "2  28788.506667  0.376617  28788.750000  0.425300  \n",
       "3  28794.483000  0.536067  28794.623333  0.395067  \n",
       "4  28793.587931  0.473741  28793.763793  0.417776  \n",
       "\n",
       "[5 rows x 82 columns]"
      ]
     },
     "execution_count": 3,
     "metadata": {},
     "output_type": "execute_result"
    }
   ],
   "source": [
    "data.head()"
   ]
  },
  {
   "cell_type": "code",
   "execution_count": 4,
   "id": "ddd3d4a7",
   "metadata": {},
   "outputs": [],
   "source": [
    "data.drop(['Unnamed: 0'], axis = 1, inplace = True) "
   ]
  },
  {
   "cell_type": "code",
   "execution_count": 5,
   "id": "800ea4ec",
   "metadata": {},
   "outputs": [],
   "source": [
    "# data['primary_key'] = pd.to_datetime(data['primary_key'])"
   ]
  },
  {
   "cell_type": "code",
   "execution_count": 6,
   "id": "2607bbe3",
   "metadata": {},
   "outputs": [],
   "source": [
    "# data=data.set_index('primary_key')"
   ]
  },
  {
   "cell_type": "code",
   "execution_count": 7,
   "id": "9fbbaca2",
   "metadata": {},
   "outputs": [
    {
     "data": {
      "text/plain": [
       "RangeIndex(start=0, stop=2880, step=1)"
      ]
     },
     "execution_count": 7,
     "metadata": {},
     "output_type": "execute_result"
    }
   ],
   "source": [
    "data.index"
   ]
  },
  {
   "cell_type": "code",
   "execution_count": 8,
   "id": "4681bbdf",
   "metadata": {},
   "outputs": [],
   "source": [
    "# Weighted Average Price\n",
    "data['WAP'] = (data['bp1']*data['bs1']\n",
    "               +data['bp2']*data['bs2']\n",
    "               +data['ap1']*data['as1']\n",
    "               +data['ap2']*data['as2'])/(data['bs1']+\n",
    "                                         data['bs2']+\n",
    "                                         data['as1']+\n",
    "                                         data['as2'])"
   ]
  },
  {
   "cell_type": "code",
   "execution_count": 9,
   "id": "5904fcb6",
   "metadata": {},
   "outputs": [],
   "source": [
    "# Bid Ask Spread\n",
    "data['spread'] = ((data['ap1']/data['bp1']) - 1)"
   ]
  },
  {
   "cell_type": "code",
   "execution_count": 10,
   "id": "daafc24c",
   "metadata": {},
   "outputs": [],
   "source": [
    "def log_price(list_stock_prices):\n",
    "    return np.log(list_stock_prices)"
   ]
  },
  {
   "cell_type": "code",
   "execution_count": 11,
   "id": "6f12a7b0",
   "metadata": {},
   "outputs": [],
   "source": [
    "data.insert(0, 'log_price', log_price(data['WAP']))"
   ]
  },
  {
   "cell_type": "code",
   "execution_count": 12,
   "id": "15b4b2a5",
   "metadata": {},
   "outputs": [],
   "source": [
    "data['log_returns'] = data.log_price.diff()"
   ]
  },
  {
   "cell_type": "code",
   "execution_count": 13,
   "id": "1fcd5cba",
   "metadata": {},
   "outputs": [],
   "source": [
    "def realized_volatility():\n",
    "    list_vol = []\n",
    "    i = 0\n",
    "    for i in data.index:\n",
    "        x = np.std(data.log_returns.iloc[:i])\n",
    "        i += 1\n",
    "        list_vol.append(x)\n",
    "    \n",
    "    return list_vol"
   ]
  },
  {
   "cell_type": "code",
   "execution_count": 14,
   "id": "d9a50d3b",
   "metadata": {},
   "outputs": [],
   "source": [
    "data['realized_volatility'] = realized_volatility()"
   ]
  },
  {
   "cell_type": "code",
   "execution_count": 15,
   "id": "610ef144",
   "metadata": {},
   "outputs": [],
   "source": [
    "from sklearn.impute import SimpleImputer"
   ]
  },
  {
   "cell_type": "code",
   "execution_count": 16,
   "id": "0138e7c6",
   "metadata": {},
   "outputs": [
    {
     "data": {
      "text/plain": [
       "array([0.])"
      ]
     },
     "execution_count": 16,
     "metadata": {},
     "output_type": "execute_result"
    }
   ],
   "source": [
    "imputer = SimpleImputer(strategy=\"constant\", fill_value = 0) # Instantiate a SimpleImputer object with your strategy of choice\n",
    "\n",
    "imputer.fit(data[['realized_volatility']]) # Call the \"fit\" method on the object\n",
    "\n",
    "data['realized_volatility'] = imputer.transform(data[['realized_volatility']]) # Call the \"transform\" method on the object\n",
    "\n",
    "imputer.statistics_ # The mean is stored in the transformer's memory"
   ]
  },
  {
   "cell_type": "code",
   "execution_count": 17,
   "id": "515c94a7",
   "metadata": {},
   "outputs": [
    {
     "data": {
      "text/plain": [
       "array([0.001254])"
      ]
     },
     "execution_count": 17,
     "metadata": {},
     "output_type": "execute_result"
    }
   ],
   "source": [
    "imputer2 = SimpleImputer(strategy=\"constant\", fill_value = 0.001254)\n",
    "imputer2.fit(data[['log_returns']]) # Call the \"fit\" method on the object\n",
    "\n",
    "data['log_returns'] = imputer2.transform(data[['log_returns']]) # Call the \"transform\" method on the object\n",
    "\n",
    "imputer2.statistics_ # The mean is stored in the transformer's memory"
   ]
  },
  {
   "cell_type": "code",
   "execution_count": 18,
   "id": "e03eeb91",
   "metadata": {},
   "outputs": [],
   "source": [
    "#sum of all bid quantities 2 levels of depth to try to mitigate costless spoofing in crypto\n",
    "data['first2_bid_depth'] = data[['bs1', 'bs2']].sum(axis=1)      "
   ]
  },
  {
   "cell_type": "code",
   "execution_count": 19,
   "id": "af79e02c",
   "metadata": {},
   "outputs": [],
   "source": [
    "#sum of all bid quantities 2 levels of depth to try to mitigate costless spoofing in crypto\n",
    "data['first2_bid_depth'] = data[['bs1', 'bs2']].sum(axis=1)"
   ]
  },
  {
   "cell_type": "code",
   "execution_count": 20,
   "id": "33c5cac8",
   "metadata": {},
   "outputs": [],
   "source": [
    "#sum of all bid quantities\n",
    "data['full_bid_depth'] = data[['bs1', 'bs2', 'bs3','bs4', 'bs5', 'bs6','bs7', 'bs8', 'bs9','bs10',\n",
    "                         'bs11', 'bs12', 'bs13','bs14', 'bs15', 'bs16','bs17', 'bs18', 'bs19','bs20']].sum(axis=1)"
   ]
  },
  {
   "cell_type": "code",
   "execution_count": 21,
   "id": "8a9f12b7",
   "metadata": {},
   "outputs": [],
   "source": [
    "#sum of all bid quantities\n",
    "data['full_ask_depth'] = data[['as1', 'as2', 'as3','as4', 'as5', 'as6','as7', 'as8', 'as9','as10',\n",
    "                         'as11', 'as12', 'as13','as14', 'as15', 'as16','as17', 'as18', 'as19','as20']].sum(axis=1)"
   ]
  },
  {
   "cell_type": "code",
   "execution_count": 22,
   "id": "71313e6b",
   "metadata": {},
   "outputs": [],
   "source": [
    "#Order Flow Imbalance (OFI) \n",
    "#relative quantities of bids vs asks\n",
    "#BBA depth (Best Bid/ASK, first level) OFI\n",
    "data['BBAOFI'] = (data['bs1']-data['as1'])/(data['bs1']+data['as1'])"
   ]
  },
  {
   "cell_type": "code",
   "execution_count": 23,
   "id": "327995ba",
   "metadata": {},
   "outputs": [],
   "source": [
    "#OFI\n",
    "#First 2 levels of depth to try to mitigate costless spoofing\n",
    "data['First2OFI'] = ((data['bs1']+data['bs2']) - (data['as1']+data['as2'])) \\\n",
    "/ ((data['bs1']+data['bs2']) + (data['as1']+data['as2']))"
   ]
  },
  {
   "cell_type": "code",
   "execution_count": 24,
   "id": "dbfec67e",
   "metadata": {},
   "outputs": [],
   "source": [
    "#Order Flow Imbalance (OFI) \n",
    "#relative quantities of bids vs asks\n",
    "#full depth (approx 20 levels) OFI\n",
    "data['FDOFI'] = (data['full_bid_depth']-data['full_ask_depth'])/(data['full_bid_depth']+data['full_ask_depth'])"
   ]
  },
  {
   "cell_type": "code",
   "execution_count": 25,
   "id": "dcb0e129",
   "metadata": {},
   "outputs": [],
   "source": [
    "#Exponential Moving Averages of WAP\n",
    "data['WAP_trend5'] = data['WAP'].ewm(span=2).mean()\n",
    "data['WAP_trend10'] = data['WAP'].ewm(span=5).mean()\n",
    "data['WAP_trend20'] = data['WAP'].ewm(span=10).mean()\n",
    "data['WAP_trend50'] = data['WAP'].ewm(span=20).mean()\n",
    "data['WAP_trend100'] = data['WAP'].ewm(span=50).mean()\n",
    "data['WAP_trend200'] = data['WAP'].ewm(span=100).mean()\n",
    "data['WAP_trend1000'] = data['WAP'].ewm(span=200).mean()\n",
    "\n",
    "#Exponential Moving Averages of First2OFI\n",
    "data['First2OFI_trend5'] = data['First2OFI'].ewm(span=2).mean()\n",
    "data['First2OFI_trend10'] = data['First2OFI'].ewm(span=5).mean()\n",
    "data['First2OFI_trend20'] = data['First2OFI'].ewm(span=10).mean()\n",
    "data['First2OFI_trend50'] = data['First2OFI'].ewm(span=20).mean()\n",
    "data['First2OFI_trend100'] = data['First2OFI'].ewm(span=50).mean()\n",
    "data['First2OFI_trend200'] = data['First2OFI'].ewm(span=100).mean()\n",
    "data['First2OFI_trend1000'] = data['First2OFI'].ewm(span=200).mean()\n",
    "\n",
    "#Exponential Moving Averages of FDOFI\n",
    "data['FDOFI_trend5'] = data['FDOFI'].ewm(span=2).mean()\n",
    "data['FDOFI_trend10'] = data['FDOFI'].ewm(span=5).mean()\n",
    "data['FDOFI_trend20'] = data['FDOFI'].ewm(span=10).mean()\n",
    "data['FDOFI_trend50'] = data['FDOFI'].ewm(span=20).mean()\n",
    "data['FDOFI_trend100'] = data['FDOFI'].ewm(span=50).mean()\n",
    "data['FDOFI_trend200'] = data['FDOFI'].ewm(span=100).mean()\n",
    "data['FDOFI_trend1000'] = data['FDOFI'].ewm(span=200).mean()"
   ]
  },
  {
   "cell_type": "code",
   "execution_count": 26,
   "id": "c6173496",
   "metadata": {},
   "outputs": [],
   "source": [
    "data['primary_key'] = pd.to_datetime(data['primary_key'])\n",
    "data=data.set_index('primary_key')"
   ]
  },
  {
   "cell_type": "code",
   "execution_count": 27,
   "id": "ab08a32d",
   "metadata": {},
   "outputs": [
    {
     "data": {
      "text/html": [
       "<div>\n",
       "<style scoped>\n",
       "    .dataframe tbody tr th:only-of-type {\n",
       "        vertical-align: middle;\n",
       "    }\n",
       "\n",
       "    .dataframe tbody tr th {\n",
       "        vertical-align: top;\n",
       "    }\n",
       "\n",
       "    .dataframe thead th {\n",
       "        text-align: right;\n",
       "    }\n",
       "</style>\n",
       "<table border=\"1\" class=\"dataframe\">\n",
       "  <thead>\n",
       "    <tr style=\"text-align: right;\">\n",
       "      <th></th>\n",
       "      <th>log_price</th>\n",
       "      <th>bp1</th>\n",
       "      <th>bs1</th>\n",
       "      <th>bp2</th>\n",
       "      <th>bs2</th>\n",
       "      <th>bp3</th>\n",
       "      <th>bs3</th>\n",
       "      <th>bp4</th>\n",
       "      <th>bs4</th>\n",
       "      <th>bp5</th>\n",
       "      <th>...</th>\n",
       "      <th>First2OFI_trend100</th>\n",
       "      <th>First2OFI_trend200</th>\n",
       "      <th>First2OFI_trend1000</th>\n",
       "      <th>FDOFI_trend5</th>\n",
       "      <th>FDOFI_trend10</th>\n",
       "      <th>FDOFI_trend20</th>\n",
       "      <th>FDOFI_trend50</th>\n",
       "      <th>FDOFI_trend100</th>\n",
       "      <th>FDOFI_trend200</th>\n",
       "      <th>FDOFI_trend1000</th>\n",
       "    </tr>\n",
       "    <tr>\n",
       "      <th>primary_key</th>\n",
       "      <th></th>\n",
       "      <th></th>\n",
       "      <th></th>\n",
       "      <th></th>\n",
       "      <th></th>\n",
       "      <th></th>\n",
       "      <th></th>\n",
       "      <th></th>\n",
       "      <th></th>\n",
       "      <th></th>\n",
       "      <th></th>\n",
       "      <th></th>\n",
       "      <th></th>\n",
       "      <th></th>\n",
       "      <th></th>\n",
       "      <th></th>\n",
       "      <th></th>\n",
       "      <th></th>\n",
       "      <th></th>\n",
       "      <th></th>\n",
       "      <th></th>\n",
       "    </tr>\n",
       "  </thead>\n",
       "  <tbody>\n",
       "    <tr>\n",
       "      <th>2022-05-19 00:00:15</th>\n",
       "      <td>10.265354</td>\n",
       "      <td>28720.075362</td>\n",
       "      <td>3.772080</td>\n",
       "      <td>28719.533333</td>\n",
       "      <td>1.405377</td>\n",
       "      <td>28719.011594</td>\n",
       "      <td>0.626551</td>\n",
       "      <td>28718.371014</td>\n",
       "      <td>0.505087</td>\n",
       "      <td>28717.980435</td>\n",
       "      <td>...</td>\n",
       "      <td>0.394011</td>\n",
       "      <td>0.394011</td>\n",
       "      <td>0.394011</td>\n",
       "      <td>0.356340</td>\n",
       "      <td>0.356340</td>\n",
       "      <td>0.356340</td>\n",
       "      <td>0.356340</td>\n",
       "      <td>0.356340</td>\n",
       "      <td>0.356340</td>\n",
       "      <td>0.356340</td>\n",
       "    </tr>\n",
       "    <tr>\n",
       "      <th>2022-05-19 00:00:45</th>\n",
       "      <td>10.266608</td>\n",
       "      <td>28755.960345</td>\n",
       "      <td>1.878828</td>\n",
       "      <td>28755.570690</td>\n",
       "      <td>0.335776</td>\n",
       "      <td>28755.050000</td>\n",
       "      <td>0.573517</td>\n",
       "      <td>28754.684483</td>\n",
       "      <td>0.737259</td>\n",
       "      <td>28754.279310</td>\n",
       "      <td>...</td>\n",
       "      <td>0.223241</td>\n",
       "      <td>0.224916</td>\n",
       "      <td>0.225753</td>\n",
       "      <td>-0.130584</td>\n",
       "      <td>-0.033199</td>\n",
       "      <td>-0.000737</td>\n",
       "      <td>0.015493</td>\n",
       "      <td>0.025232</td>\n",
       "      <td>0.028478</td>\n",
       "      <td>0.030101</td>\n",
       "    </tr>\n",
       "  </tbody>\n",
       "</table>\n",
       "<p>2 rows × 112 columns</p>\n",
       "</div>"
      ],
      "text/plain": [
       "                     log_price           bp1       bs1           bp2  \\\n",
       "primary_key                                                            \n",
       "2022-05-19 00:00:15  10.265354  28720.075362  3.772080  28719.533333   \n",
       "2022-05-19 00:00:45  10.266608  28755.960345  1.878828  28755.570690   \n",
       "\n",
       "                          bs2           bp3       bs3           bp4       bs4  \\\n",
       "primary_key                                                                     \n",
       "2022-05-19 00:00:15  1.405377  28719.011594  0.626551  28718.371014  0.505087   \n",
       "2022-05-19 00:00:45  0.335776  28755.050000  0.573517  28754.684483  0.737259   \n",
       "\n",
       "                              bp5  ...  First2OFI_trend100  \\\n",
       "primary_key                        ...                       \n",
       "2022-05-19 00:00:15  28717.980435  ...            0.394011   \n",
       "2022-05-19 00:00:45  28754.279310  ...            0.223241   \n",
       "\n",
       "                     First2OFI_trend200  First2OFI_trend1000  FDOFI_trend5  \\\n",
       "primary_key                                                                  \n",
       "2022-05-19 00:00:15            0.394011             0.394011      0.356340   \n",
       "2022-05-19 00:00:45            0.224916             0.225753     -0.130584   \n",
       "\n",
       "                     FDOFI_trend10  FDOFI_trend20  FDOFI_trend50  \\\n",
       "primary_key                                                        \n",
       "2022-05-19 00:00:15       0.356340       0.356340       0.356340   \n",
       "2022-05-19 00:00:45      -0.033199      -0.000737       0.015493   \n",
       "\n",
       "                     FDOFI_trend100  FDOFI_trend200  FDOFI_trend1000  \n",
       "primary_key                                                           \n",
       "2022-05-19 00:00:15        0.356340        0.356340         0.356340  \n",
       "2022-05-19 00:00:45        0.025232        0.028478         0.030101  \n",
       "\n",
       "[2 rows x 112 columns]"
      ]
     },
     "execution_count": 27,
     "metadata": {},
     "output_type": "execute_result"
    }
   ],
   "source": [
    "data.head(2)"
   ]
  },
  {
   "cell_type": "code",
   "execution_count": 28,
   "id": "1fd83182",
   "metadata": {},
   "outputs": [
    {
     "name": "stdout",
     "output_type": "stream",
     "text": [
      "['log_price', 'bp1', 'bs1', 'bp2', 'bs2', 'bp3', 'bs3', 'bp4', 'bs4', 'bp5', 'bs5', 'bp6', 'bs6', 'bp7', 'bs7', 'bp8', 'bs8', 'bp9', 'bs9', 'bp10', 'bs10', 'bp11', 'bs11', 'bp12', 'bs12', 'bp13', 'bs13', 'bp14', 'bs14', 'bp15', 'bs15', 'bp16', 'bs16', 'bp17', 'bs17', 'bp18', 'bs18', 'bp19', 'bs19', 'bp20', 'bs20', 'ap1', 'as1', 'ap2', 'as2', 'ap3', 'as3', 'ap4', 'as4', 'ap5', 'as5', 'ap6', 'as6', 'ap7', 'as7', 'ap8', 'as8', 'ap9', 'as9', 'ap10', 'as10', 'ap11', 'as11', 'ap12', 'as12', 'ap13', 'as13', 'ap14', 'as14', 'ap15', 'as15', 'ap16', 'as16', 'ap17', 'as17', 'ap18', 'as18', 'ap19', 'as19', 'ap20', 'as20', 'WAP', 'spread', 'log_returns', 'realized_volatility', 'first2_bid_depth', 'full_bid_depth', 'full_ask_depth', 'BBAOFI', 'First2OFI', 'FDOFI', 'WAP_trend5', 'WAP_trend10', 'WAP_trend20', 'WAP_trend50', 'WAP_trend100', 'WAP_trend200', 'WAP_trend1000', 'First2OFI_trend5', 'First2OFI_trend10', 'First2OFI_trend20', 'First2OFI_trend50', 'First2OFI_trend100', 'First2OFI_trend200', 'First2OFI_trend1000', 'FDOFI_trend5', 'FDOFI_trend10', 'FDOFI_trend20', 'FDOFI_trend50', 'FDOFI_trend100', 'FDOFI_trend200', 'FDOFI_trend1000']\n"
     ]
    }
   ],
   "source": [
    "print(data.columns.tolist())"
   ]
  },
  {
   "cell_type": "code",
   "execution_count": 29,
   "id": "42c5a6b7",
   "metadata": {},
   "outputs": [],
   "source": [
    "# SCALE DATA\n",
    "data_scaled = data.copy()\n",
    "\n",
    "from sklearn.preprocessing import StandardScaler\n",
    "scaler = StandardScaler()\n",
    "data_scaled[data.columns] = scaler.fit_transform(data[data.columns])\n"
   ]
  },
  {
   "cell_type": "code",
   "execution_count": 30,
   "id": "6ccfab11",
   "metadata": {},
   "outputs": [
    {
     "data": {
      "text/html": [
       "<div>\n",
       "<style scoped>\n",
       "    .dataframe tbody tr th:only-of-type {\n",
       "        vertical-align: middle;\n",
       "    }\n",
       "\n",
       "    .dataframe tbody tr th {\n",
       "        vertical-align: top;\n",
       "    }\n",
       "\n",
       "    .dataframe thead th {\n",
       "        text-align: right;\n",
       "    }\n",
       "</style>\n",
       "<table border=\"1\" class=\"dataframe\">\n",
       "  <thead>\n",
       "    <tr style=\"text-align: right;\">\n",
       "      <th></th>\n",
       "      <th>log_price</th>\n",
       "      <th>bp1</th>\n",
       "      <th>bs1</th>\n",
       "      <th>bp2</th>\n",
       "      <th>bs2</th>\n",
       "      <th>bp3</th>\n",
       "      <th>bs3</th>\n",
       "      <th>bp4</th>\n",
       "      <th>bs4</th>\n",
       "      <th>bp5</th>\n",
       "      <th>...</th>\n",
       "      <th>First2OFI_trend100</th>\n",
       "      <th>First2OFI_trend200</th>\n",
       "      <th>First2OFI_trend1000</th>\n",
       "      <th>FDOFI_trend5</th>\n",
       "      <th>FDOFI_trend10</th>\n",
       "      <th>FDOFI_trend20</th>\n",
       "      <th>FDOFI_trend50</th>\n",
       "      <th>FDOFI_trend100</th>\n",
       "      <th>FDOFI_trend200</th>\n",
       "      <th>FDOFI_trend1000</th>\n",
       "    </tr>\n",
       "    <tr>\n",
       "      <th>primary_key</th>\n",
       "      <th></th>\n",
       "      <th></th>\n",
       "      <th></th>\n",
       "      <th></th>\n",
       "      <th></th>\n",
       "      <th></th>\n",
       "      <th></th>\n",
       "      <th></th>\n",
       "      <th></th>\n",
       "      <th></th>\n",
       "      <th></th>\n",
       "      <th></th>\n",
       "      <th></th>\n",
       "      <th></th>\n",
       "      <th></th>\n",
       "      <th></th>\n",
       "      <th></th>\n",
       "      <th></th>\n",
       "      <th></th>\n",
       "      <th></th>\n",
       "      <th></th>\n",
       "    </tr>\n",
       "  </thead>\n",
       "  <tbody>\n",
       "    <tr>\n",
       "      <th>2022-05-19 00:00:15</th>\n",
       "      <td>-1.599950</td>\n",
       "      <td>-1.583430</td>\n",
       "      <td>0.048911</td>\n",
       "      <td>-1.583602</td>\n",
       "      <td>0.169081</td>\n",
       "      <td>-1.583888</td>\n",
       "      <td>0.033249</td>\n",
       "      <td>-1.584518</td>\n",
       "      <td>-0.030828</td>\n",
       "      <td>-1.584747</td>\n",
       "      <td>...</td>\n",
       "      <td>4.741434</td>\n",
       "      <td>6.247273</td>\n",
       "      <td>8.349203</td>\n",
       "      <td>1.645776</td>\n",
       "      <td>2.124505</td>\n",
       "      <td>2.572707</td>\n",
       "      <td>3.142386</td>\n",
       "      <td>4.252157</td>\n",
       "      <td>5.557743</td>\n",
       "      <td>7.437861</td>\n",
       "    </tr>\n",
       "    <tr>\n",
       "      <th>2022-05-19 00:00:45</th>\n",
       "      <td>-1.529588</td>\n",
       "      <td>-1.515433</td>\n",
       "      <td>-0.177618</td>\n",
       "      <td>-1.515314</td>\n",
       "      <td>-0.096760</td>\n",
       "      <td>-1.515598</td>\n",
       "      <td>-0.003982</td>\n",
       "      <td>-1.515706</td>\n",
       "      <td>0.164093</td>\n",
       "      <td>-1.515961</td>\n",
       "      <td>...</td>\n",
       "      <td>2.404412</td>\n",
       "      <td>3.197589</td>\n",
       "      <td>4.294907</td>\n",
       "      <td>-0.973694</td>\n",
       "      <td>-0.581526</td>\n",
       "      <td>-0.432059</td>\n",
       "      <td>-0.360061</td>\n",
       "      <td>-0.340400</td>\n",
       "      <td>-0.367950</td>\n",
       "      <td>-0.418538</td>\n",
       "    </tr>\n",
       "  </tbody>\n",
       "</table>\n",
       "<p>2 rows × 112 columns</p>\n",
       "</div>"
      ],
      "text/plain": [
       "                     log_price       bp1       bs1       bp2       bs2  \\\n",
       "primary_key                                                              \n",
       "2022-05-19 00:00:15  -1.599950 -1.583430  0.048911 -1.583602  0.169081   \n",
       "2022-05-19 00:00:45  -1.529588 -1.515433 -0.177618 -1.515314 -0.096760   \n",
       "\n",
       "                          bp3       bs3       bp4       bs4       bp5  ...  \\\n",
       "primary_key                                                            ...   \n",
       "2022-05-19 00:00:15 -1.583888  0.033249 -1.584518 -0.030828 -1.584747  ...   \n",
       "2022-05-19 00:00:45 -1.515598 -0.003982 -1.515706  0.164093 -1.515961  ...   \n",
       "\n",
       "                     First2OFI_trend100  First2OFI_trend200  \\\n",
       "primary_key                                                   \n",
       "2022-05-19 00:00:15            4.741434            6.247273   \n",
       "2022-05-19 00:00:45            2.404412            3.197589   \n",
       "\n",
       "                     First2OFI_trend1000  FDOFI_trend5  FDOFI_trend10  \\\n",
       "primary_key                                                             \n",
       "2022-05-19 00:00:15             8.349203      1.645776       2.124505   \n",
       "2022-05-19 00:00:45             4.294907     -0.973694      -0.581526   \n",
       "\n",
       "                     FDOFI_trend20  FDOFI_trend50  FDOFI_trend100  \\\n",
       "primary_key                                                         \n",
       "2022-05-19 00:00:15       2.572707       3.142386        4.252157   \n",
       "2022-05-19 00:00:45      -0.432059      -0.360061       -0.340400   \n",
       "\n",
       "                     FDOFI_trend200  FDOFI_trend1000  \n",
       "primary_key                                           \n",
       "2022-05-19 00:00:15        5.557743         7.437861  \n",
       "2022-05-19 00:00:45       -0.367950        -0.418538  \n",
       "\n",
       "[2 rows x 112 columns]"
      ]
     },
     "execution_count": 30,
     "metadata": {},
     "output_type": "execute_result"
    }
   ],
   "source": [
    "data_scaled.head(2)"
   ]
  },
  {
   "cell_type": "markdown",
   "id": "95411600",
   "metadata": {},
   "source": [
    "## Running KMeans to determine quantitatively the amount of categories to categorize volatility "
   ]
  },
  {
   "cell_type": "code",
   "execution_count": 31,
   "id": "89986011",
   "metadata": {},
   "outputs": [
    {
     "data": {
      "image/png": "[encoded data removed]",
      "text/plain": [
       "<Figure size 432x288 with 1 Axes>"
      ]
     },
     "metadata": {
      "needs_background": "light"
     },
     "output_type": "display_data"
    }
   ],
   "source": [
    "wCSS = []\n",
    "for i in range(1,11):\n",
    "    kmeans = KMeans(n_clusters = i, init = 'k-means++', max_iter = 300, n_init = 10)\n",
    "    kmeans.fit(data_scaled)\n",
    "    wCSS.append(kmeans.inertia_) #Collects all of the within cluster sum of squares\n",
    "plt.plot(range(1,11), wCSS)\n",
    "plt.title('Elbow Method')\n",
    "plt.xlabel('Clusters')\n",
    "plt.ylabel('wCSS')\n",
    "plt.show()"
   ]
  },
  {
   "cell_type": "markdown",
   "id": "d9978ff2",
   "metadata": {},
   "source": [
    "## Descision Trees With Boosting"
   ]
  },
  {
   "cell_type": "code",
   "execution_count": 32,
   "id": "d019feb3",
   "metadata": {},
   "outputs": [],
   "source": [
    "#first without scaling target\n",
    "#      check for stationarity in target\n",
    "#first without introducing lagged features"
   ]
  },
  {
   "cell_type": "code",
   "execution_count": 33,
   "id": "82fae1e3",
   "metadata": {},
   "outputs": [
    {
     "data": {
      "text/plain": [
       "Index(['log_price', 'bp1', 'bs1', 'bp2', 'bs2', 'bp3', 'bs3', 'bp4', 'bs4',\n",
       "       'bp5',\n",
       "       ...\n",
       "       'First2OFI_trend100', 'First2OFI_trend200', 'First2OFI_trend1000',\n",
       "       'FDOFI_trend5', 'FDOFI_trend10', 'FDOFI_trend20', 'FDOFI_trend50',\n",
       "       'FDOFI_trend100', 'FDOFI_trend200', 'FDOFI_trend1000'],\n",
       "      dtype='object', length=112)"
      ]
     },
     "execution_count": 33,
     "metadata": {},
     "output_type": "execute_result"
    }
   ],
   "source": [
    "data_scaled.columns"
   ]
  },
  {
   "cell_type": "code",
   "execution_count": 34,
   "id": "daa9004e",
   "metadata": {},
   "outputs": [],
   "source": [
    "train_size = 0.65\n",
    "index = round(train_size*data_scaled.shape[0])\n",
    "df_train = data_scaled.iloc[:index]\n",
    "df_test = data_scaled.iloc[index:]"
   ]
  },
  {
   "cell_type": "code",
   "execution_count": 35,
   "id": "0e683c4d",
   "metadata": {},
   "outputs": [],
   "source": [
    "X_train = df_train.drop('realized_volatility', axis=1)\n",
    "X_test = df_test.drop('realized_volatility', axis=1)"
   ]
  },
  {
   "cell_type": "code",
   "execution_count": 36,
   "id": "2631e6f5",
   "metadata": {},
   "outputs": [],
   "source": [
    "y = data.realized_volatility"
   ]
  },
  {
   "cell_type": "code",
   "execution_count": null,
   "id": "a7ce8f3c",
   "metadata": {},
   "outputs": [],
   "source": []
  },
  {
   "cell_type": "code",
   "execution_count": 37,
   "id": "035e5cb5",
   "metadata": {},
   "outputs": [],
   "source": [
    "from sklearn.ensemble import AdaBoostClassifier"
   ]
  },
  {
   "cell_type": "code",
   "execution_count": 38,
   "id": "3e742b28",
   "metadata": {},
   "outputs": [],
   "source": [
    "model = AdaBoostClassifier(n_estimators=1)"
   ]
  },
  {
   "cell_type": "code",
   "execution_count": 39,
   "id": "dbd2eb28",
   "metadata": {},
   "outputs": [
    {
     "ename": "NameError",
     "evalue": "name 'y_train' is not defined",
     "output_type": "error",
     "traceback": [
      "\u001b[0;31m---------------------------------------------------------------------------\u001b[0m",
      "\u001b[0;31mNameError\u001b[0m                                 Traceback (most recent call last)",
      "Input \u001b[0;32mIn [39]\u001b[0m, in \u001b[0;36m<cell line: 1>\u001b[0;34m()\u001b[0m\n\u001b[0;32m----> 1\u001b[0m model\u001b[38;5;241m.\u001b[39mfit(X_train,\u001b[43my_train\u001b[49m)\n",
      "\u001b[0;31mNameError\u001b[0m: name 'y_train' is not defined"
     ]
    }
   ],
   "source": [
    "model.fit(X_train,y_train)"
   ]
  },
  {
   "cell_type": "code",
   "execution_count": null,
   "id": "91691cb9",
   "metadata": {},
   "outputs": [],
   "source": [
    "from sklearn.metrics import classification_report,plot_confusion_matrix,accuracy_score"
   ]
  },
  {
   "cell_type": "code",
   "execution_count": null,
   "id": "b9351d0d",
   "metadata": {},
   "outputs": [],
   "source": [
    "predictions = model.predict(X_test)"
   ]
  },
  {
   "cell_type": "code",
   "execution_count": null,
   "id": "469493cf",
   "metadata": {},
   "outputs": [],
   "source": [
    "print(classification_report(y_test,predictions))"
   ]
  },
  {
   "cell_type": "code",
   "execution_count": null,
   "id": "fd55ff10",
   "metadata": {},
   "outputs": [],
   "source": [
    "model.feature_importances_"
   ]
  },
  {
   "cell_type": "code",
   "execution_count": null,
   "id": "c2c98335",
   "metadata": {},
   "outputs": [],
   "source": [
    "model.feature_importances_.argmax()"
   ]
  },
  {
   "cell_type": "code",
   "execution_count": null,
   "id": "93aa51e4",
   "metadata": {},
   "outputs": [],
   "source": [
    "X.columns[model.feature_importances_.argmax()]"
   ]
  },
  {
   "cell_type": "code",
   "execution_count": null,
   "id": "66df3f3f",
   "metadata": {},
   "outputs": [],
   "source": []
  },
  {
   "cell_type": "code",
   "execution_count": null,
   "id": "c11ed641",
   "metadata": {},
   "outputs": [],
   "source": []
  },
  {
   "cell_type": "code",
   "execution_count": null,
   "id": "b0b509a8",
   "metadata": {},
   "outputs": [],
   "source": []
  },
  {
   "cell_type": "code",
   "execution_count": null,
   "id": "5ef90e56",
   "metadata": {},
   "outputs": [],
   "source": []
  },
  {
   "cell_type": "code",
   "execution_count": null,
   "id": "35d0e4e3",
   "metadata": {},
   "outputs": [],
   "source": []
  },
  {
   "cell_type": "code",
   "execution_count": null,
   "id": "1b61a6a8",
   "metadata": {},
   "outputs": [],
   "source": []
  },
  {
   "cell_type": "code",
   "execution_count": null,
   "id": "9f4dd8dd",
   "metadata": {},
   "outputs": [],
   "source": [
    "from xgboost import XGBClassifier\n",
    "xgb_clf = XGBClassifier()\n",
    "xgb_clf.fit(X_train, y_train)\n"
   ]
  },
  {
   "cell_type": "code",
   "execution_count": null,
   "id": "e1085fd5",
   "metadata": {},
   "outputs": [],
   "source": [
    "from sklearn.ensemble import AdaBoostClassifier\n",
    "from sklearn.tree import DecisionTreeClassifier \n",
    "\n",
    "regr_1 = DecisionTreeClassifier(max_depth=4)\n",
    "\n",
    "regr_2 = AdaBoostClassifier(\n",
    "    DecisionTreeClassifier(max_depth=4), n_estimators=300, random_state=42\n",
    ")\n",
    "\n",
    "regr_1.fit(X, y)\n",
    "regr_2.fit(X, y)\n",
    "\n",
    "y_1 = regr_1.predict(X)\n",
    "y_2 = regr_2.predict(X)"
   ]
  },
  {
   "cell_type": "code",
   "execution_count": null,
   "id": "494065a0",
   "metadata": {},
   "outputs": [],
   "source": []
  },
  {
   "cell_type": "code",
   "execution_count": null,
   "id": "723e17b0",
   "metadata": {},
   "outputs": [],
   "source": []
  },
  {
   "cell_type": "code",
   "execution_count": null,
   "id": "9afdbfba",
   "metadata": {},
   "outputs": [],
   "source": []
  },
  {
   "cell_type": "code",
   "execution_count": null,
   "id": "80ec1f28",
   "metadata": {},
   "outputs": [],
   "source": [
    "data[['log_price']].boxplot();"
   ]
  },
  {
   "cell_type": "code",
   "execution_count": null,
   "id": "40d2cdeb",
   "metadata": {},
   "outputs": [],
   "source": [
    "data[['WAP']].boxplot();"
   ]
  },
  {
   "cell_type": "code",
   "execution_count": null,
   "id": "6858aa27",
   "metadata": {},
   "outputs": [],
   "source": [
    "data[['spread']].boxplot();"
   ]
  },
  {
   "cell_type": "code",
   "execution_count": null,
   "id": "56dce47e",
   "metadata": {},
   "outputs": [],
   "source": [
    "data[['log_returns']].boxplot();"
   ]
  },
  {
   "cell_type": "code",
   "execution_count": null,
   "id": "0899f07b",
   "metadata": {},
   "outputs": [],
   "source": [
    "data[['realized_volatility']].boxplot();"
   ]
  },
  {
   "cell_type": "markdown",
   "id": "57cc4283",
   "metadata": {},
   "source": [
    "# Baseline Model: Time Series "
   ]
  },
  {
   "cell_type": "markdown",
   "id": "a7fc17d0",
   "metadata": {},
   "source": [
    "## Step 1: Create volatility levels"
   ]
  },
  {
   "cell_type": "code",
   "execution_count": null,
   "id": "e82ea521",
   "metadata": {
    "scrolled": true
   },
   "outputs": [],
   "source": [
    "pd.qcut(data['realized_volatility'],20).value_counts()"
   ]
  },
  {
   "cell_type": "code",
   "execution_count": null,
   "id": "8479f2b8",
   "metadata": {},
   "outputs": [],
   "source": [
    "plt.hist(data.realized_volatility, bins = 200);"
   ]
  },
  {
   "cell_type": "code",
   "execution_count": null,
   "id": "31f1fc23",
   "metadata": {},
   "outputs": [],
   "source": [
    "data['realized_volatility'].describe()"
   ]
  },
  {
   "cell_type": "code",
   "execution_count": null,
   "id": "f6006ed9",
   "metadata": {},
   "outputs": [],
   "source": [
    "data['volatility_levels'] = ['red' if x == 'Z' else 'green' for x in df['Set']]"
   ]
  }
 ],
 "metadata": {
  "kernelspec": {
   "display_name": "Python 3 (ipykernel)",
   "language": "python",
   "name": "python3"
  },
  "language_info": {
   "codemirror_mode": {
    "name": "ipython",
    "version": 3
   },
   "file_extension": ".py",
   "mimetype": "text/x-python",
   "name": "python",
   "nbconvert_exporter": "python",
   "pygments_lexer": "ipython3",
   "version": "3.8.13"
  },
  "toc": {
   "base_numbering": 1,
   "nav_menu": {},
   "number_sections": true,
   "sideBar": true,
   "skip_h1_title": false,
   "title_cell": "Table of Contents",
   "title_sidebar": "Contents",
   "toc_cell": false,
   "toc_position": {},
   "toc_section_display": true,
   "toc_window_display": false
  }
 },
 "nbformat": 4,
 "nbformat_minor": 5
}
